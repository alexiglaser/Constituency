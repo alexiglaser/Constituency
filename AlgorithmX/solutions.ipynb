{
 "cells": [
  {
   "cell_type": "markdown",
   "metadata": {},
   "source": [
    "# Algorithm X application to constituency data\n",
    "\n",
    "Previously we found all sets of 2 / 3 / 4 constituencies which are neighbours, i.e. those constituencies which share a border, which we shall call sets (with a unique identifier `set_no`). We will now apply Algorithm X to these merged constituencies and find (a subset of) solutions so that every constituency is selected once and only once. We shall do this on a region-by-region basis for two reasons:\n",
    "\n",
    "1. it will reduce the amount of possible combinations substantially\n",
    "1. it also (mostly) ensures consistency of political parties, so that e.g. we wouldn't have one constituency on England and one in Wales, so that Plaid Cymru vote would potentially halve.\n",
    "\n",
    "There are often times when the total number of constituencies in a region is not divisible by 2 / 3 / 4. For these cases we shall remove a set from a different constituency size until they are divisible, e.g. for the North East we have 29 constituencies so if we want to find all solutions where we merge 2 constituencies we shall pick at random one of the sets where 3 constituencies have been merged and remove them from our initial analysis. We shall repeat this, removing another of the 3-way merged sets, until we get a large enough sample.\n",
    "\n",
    "For some of the sets we have a large number of solutions, so we will only keep a subset of them. When there are a large number of solutions we shall rerun the analysis with the dataframe resampled and this can change the initial solutions given.\n",
    "\n",
    "The (sampled) solutions will be saved as csv files.\n",
    "\n",
    "All functions used are stored in the `algox_modules.py` file.\n"
   ]
  },
  {
   "cell_type": "code",
   "execution_count": 1,
   "metadata": {},
   "outputs": [],
   "source": [
    "import pandas as pd\n",
    "from joblib import Parallel, delayed\n",
    "from algox_modules import *"
   ]
  },
  {
   "cell_type": "code",
   "execution_count": 2,
   "metadata": {},
   "outputs": [],
   "source": [
    "const_pairs = pd.read_csv(\"../Analysis/Data/const_pairs.csv.gz\")\n",
    "const_tris = pd.read_csv(\"../Analysis/Data/const_tris.csv.gz\")\n",
    "const_quads = pd.read_csv(\"../Analysis/Data/const_quads.csv.gz\")"
   ]
  },
  {
   "cell_type": "code",
   "execution_count": 3,
   "metadata": {},
   "outputs": [],
   "source": [
    "regions = np.unique(const_pairs['region'])"
   ]
  },
  {
   "cell_type": "code",
   "execution_count": 4,
   "metadata": {},
   "outputs": [],
   "source": [
    "# Set up folders used to store logs and info during runthrough\n",
    "import os\n",
    "if not os.path.isdir(\"Logs\"):\n",
    "    os.makedirs(\"Logs/\")\n",
    "    os.makedirs(\"Logs/check/\")\n",
    "    os.makedirs(\"Logs/DataFrames/\")\n",
    "    os.makedirs(\"Logs/solns/\")\n",
    "    \n",
    "# Remove any files that were created in a previous run\n",
    "import glob\n",
    "def del_files(dir):\n",
    "    files = glob.glob(dir)\n",
    "    if len(files) > 0:\n",
    "        [os.remove(f) for f in files]\n",
    "del_files(\"Logs/solns/soln_*.csv\")\n",
    "del_files(\"Logs/log_*.log\")\n",
    "del_files(\"Logs/DataFrames/df_*.csv.gz\")\n",
    "del_files(\"Logs/solns_*.csv.gz\")\n",
    "del_files(\"Logs/check/df_*.csv\")\n",
    "del_files(\"Solutions/solns_*.csv.gz\")\n"
   ]
  },
  {
   "cell_type": "code",
   "execution_count": 5,
   "metadata": {},
   "outputs": [
    {
     "name": "stderr",
     "output_type": "stream",
     "text": [
      "[Parallel(n_jobs=5)]: Using backend LokyBackend with 5 concurrent workers.\n",
      "[Parallel(n_jobs=5)]: Done   3 tasks      | elapsed:  2.3min\n",
      "[Parallel(n_jobs=5)]: Done   8 tasks      | elapsed: 17.0min\n",
      "[Parallel(n_jobs=5)]: Done  15 tasks      | elapsed: 32.5min\n",
      "[Parallel(n_jobs=5)]: Done  22 tasks      | elapsed: 135.1min\n",
      "[Parallel(n_jobs=5)]: Done  31 out of  36 | elapsed: 194.0min remaining: 31.3min\n",
      "[Parallel(n_jobs=5)]: Done  36 out of  36 | elapsed: 376.4min finished\n"
     ]
    }
   ],
   "source": [
    "# Command to run with joblib.\n",
    "element_information = Parallel(n_jobs=5, verbose=10)(\n",
    "    delayed(get_solns)(const_pairs, const_tris, const_quads, seats, region, max_solns=5e5) \n",
    "        for region in regions for seats in [2,3,4])"
   ]
  },
  {
   "cell_type": "code",
   "execution_count": 7,
   "metadata": {
    "scrolled": true
   },
   "outputs": [
    {
     "name": "stderr",
     "output_type": "stream",
     "text": [
      "[Parallel(n_jobs=4)]: Using backend LokyBackend with 4 concurrent workers.\n",
      "[Parallel(n_jobs=4)]: Done   5 tasks      | elapsed: 10.1min\n",
      "[Parallel(n_jobs=4)]: Done  10 tasks      | elapsed: 17.0min\n",
      "[Parallel(n_jobs=4)]: Done  17 tasks      | elapsed: 21.6min\n",
      "[Parallel(n_jobs=4)]: Done  24 tasks      | elapsed: 42.7min\n",
      "[Parallel(n_jobs=4)]: Done  33 out of  36 | elapsed: 71.1min remaining:  6.5min\n",
      "[Parallel(n_jobs=4)]: Done  36 out of  36 | elapsed: 97.9min finished\n"
     ]
    }
   ],
   "source": [
    "# Command to run with joblib.\n",
    "element_information = Parallel(n_jobs=4, verbose=10)(\n",
    "    delayed(get_solns)(const_pairs, const_tris, const_quads, seats, region, max_solns=2.5e5) \n",
    "        for region in regions for seats in [2,3,4])"
   ]
  },
  {
   "cell_type": "code",
   "execution_count": 10,
   "metadata": {},
   "outputs": [
    {
     "data": {
      "text/plain": [
       "'525,000'"
      ]
     },
     "execution_count": 10,
     "metadata": {},
     "output_type": "execute_result"
    }
   ],
   "source": [
    "test = pd.read_csv(\"Solutions/solns_London_4.csv.gz\")\n",
    "f\"{test.shape[0]:,}\""
   ]
  },
  {
   "cell_type": "code",
   "execution_count": null,
   "metadata": {},
   "outputs": [],
   "source": [
    "# Command to run with joblib.\n",
    "element_information = Parallel(n_jobs=4, verbose=10)(\n",
    "    delayed(get_solns)(const_pairs, const_tris, const_quads, seats, region, max_solns=15e4) \n",
    "        for region in regions for seats in [2,3,4])"
   ]
  },
  {
   "cell_type": "code",
   "execution_count": null,
   "metadata": {},
   "outputs": [],
   "source": [
    "import sys\n",
    "import importlib\n",
    "importlib.reload(sys.modules['algox_modules'])\n",
    "importlib.reload(sys.modules['AlgorithmX_timeout'])"
   ]
  },
  {
   "cell_type": "code",
   "execution_count": null,
   "metadata": {},
   "outputs": [],
   "source": [
    "import gc\n",
    "gc.collect()"
   ]
  },
  {
   "cell_type": "code",
   "execution_count": null,
   "metadata": {},
   "outputs": [],
   "source": [
    "len(gc.get_objects())"
   ]
  },
  {
   "cell_type": "code",
   "execution_count": 12,
   "metadata": {},
   "outputs": [
    {
     "data": {
      "text/plain": [
       "12500.0"
      ]
     },
     "execution_count": 12,
     "metadata": {},
     "output_type": "execute_result"
    }
   ],
   "source": [
    "137500/11"
   ]
  },
  {
   "cell_type": "code",
   "execution_count": 13,
   "metadata": {},
   "outputs": [
    {
     "data": {
      "text/plain": [
       "12500.0"
      ]
     },
     "execution_count": 13,
     "metadata": {},
     "output_type": "execute_result"
    }
   ],
   "source": [
    "5e5*0.025"
   ]
  },
  {
   "cell_type": "code",
   "execution_count": 14,
   "metadata": {},
   "outputs": [
    {
     "data": {
      "text/plain": [
       "25000.0"
      ]
     },
     "execution_count": 14,
     "metadata": {},
     "output_type": "execute_result"
    }
   ],
   "source": [
    "525000/21"
   ]
  },
  {
   "cell_type": "code",
   "execution_count": null,
   "metadata": {},
   "outputs": [],
   "source": []
  }
 ],
 "metadata": {
  "kernelspec": {
   "display_name": "Python 3",
   "language": "python",
   "name": "python3"
  },
  "language_info": {
   "codemirror_mode": {
    "name": "ipython",
    "version": 3
   },
   "file_extension": ".py",
   "mimetype": "text/x-python",
   "name": "python",
   "nbconvert_exporter": "python",
   "pygments_lexer": "ipython3",
   "version": "3.5.3"
  }
 },
 "nbformat": 4,
 "nbformat_minor": 4
}
