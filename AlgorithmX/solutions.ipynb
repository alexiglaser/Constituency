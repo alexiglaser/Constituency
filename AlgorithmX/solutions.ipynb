{
 "cells": [
  {
   "cell_type": "markdown",
   "metadata": {},
   "source": [
    "# Algorithm X application to constituency data\n",
    "\n",
    "Previously we found all sets of 2 / 3 / 4 constituencies which are neighbours, i.e. those constituencies which share a border, which we shall call sets (with a unique identifier `set_no`). We will now apply Algorithm X to these merged constituencies and find (a subset of) solutions so that every constituency is selected once and only once. We shall do this on a region-by-region basis for two reasons:\n",
    "\n",
    "1. it will reduce the amount of possible combinations substantially\n",
    "1. it also (mostly) ensures consistency of political parties, so that e.g. we wouldn't have one constituency on England and one in Wales, so that Plaid Cymru vote would potentially halve.\n",
    "\n",
    "There are often times when the total number of constituencies in a region is not divisible by 2 / 3 / 4. For these cases we shall remove a set from a different constituency size until they are divisible, e.g. for the North East we have 29 constituencies so if we want to find all solutions where we merge 2 constituencies we shall pick at random one of the sets where 3 constituencies have been merged and remove them from our initial analysis. We shall repeat this, removing another of the 3-way merged sets, until we get a large enough sample.\n",
    "\n",
    "For some of the sets we have a large number of solutions, so we will only keep a subset of them. When there are a large number of solutions we shall rerun the analysis with the dataframe resampled and this can change the initial solutions given.\n",
    "\n",
    "The (sampled) solutions will be saved as csv files.\n"
   ]
  },
  {
   "cell_type": "code",
   "execution_count": 1,
   "metadata": {},
   "outputs": [],
   "source": [
    "import numpy as np\n",
    "import pandas as pd\n",
    "from AlgorithmX import *\n",
    "from joblib import Parallel, delayed\n",
    "from random import random, sample\n",
    "from algox_modules import *\n",
    "import os"
   ]
  },
  {
   "cell_type": "code",
   "execution_count": 2,
   "metadata": {},
   "outputs": [],
   "source": [
    "const_pairs = pd.read_csv(\"../Analysis/Data/const_pairs.csv.gz\")\n",
    "const_tris = pd.read_csv(\"../Analysis/Data/const_tris.csv.gz\")\n",
    "const_quads = pd.read_csv(\"../Analysis/Data/const_quads.csv.gz\")"
   ]
  },
  {
   "cell_type": "code",
   "execution_count": 57,
   "metadata": {},
   "outputs": [
    {
     "data": {
      "text/plain": [
       "<module 'algox_modules' from '/home/work/AlgorithmX/algox_modules.py'>"
      ]
     },
     "execution_count": 57,
     "metadata": {},
     "output_type": "execute_result"
    }
   ],
   "source": [
    "import sys\n",
    "import importlib\n",
    "importlib.reload(sys.modules['algox_modules'])"
   ]
  },
  {
   "cell_type": "code",
   "execution_count": null,
   "metadata": {},
   "outputs": [],
   "source": [
    "# Command to run with joblib.\n",
    "element_information = Parallel(n_jobs=4, verbose=10)(\n",
    "    delayed(get_solns)(const_pairs, const_tris, const_quads, seats, region, max_solns=1e7) \n",
    "        for seats in [2,3,4] for region in regions)\n"
   ]
  },
  {
   "cell_type": "code",
   "execution_count": 3,
   "metadata": {},
   "outputs": [
    {
     "name": "stdout",
     "output_type": "stream",
     "text": [
      "INFO: 2020-06-05 17:56:26,568: Starting code for region Yorkshire and the Humber with 3 seats.\n",
      "WARNING: 2020-06-05 17:56:26,607: For the Yorkshire and the Humber region, when we have 3 seats there are no solutions.\n",
      "INFO: 2020-06-05 17:56:26,630: Finished getting solutions for region Yorkshire and the Humber with 3 seats\n"
     ]
    }
   ],
   "source": [
    "get_solns(const_pairs, const_tris, const_quads, 3, 'Yorkshire and the Humber', max_solns=1e5)"
   ]
  },
  {
   "cell_type": "code",
   "execution_count": null,
   "metadata": {
    "scrolled": true
   },
   "outputs": [
    {
     "name": "stdout",
     "output_type": "stream",
     "text": [
      "INFO: 2020-06-05 17:56:53,230: Starting code for region Wales with 2 seats.\n",
      "INFO: 2020-06-05 17:56:55,714: Finished getting solutions for region Wales with 2 seats\n",
      "INFO: 2020-06-05 17:56:55,748: Starting code for region Wales with 3 seats.\n",
      "INFO: 2020-06-05 17:57:00,379: Finished getting solutions for region Wales with 3 seats\n",
      "INFO: 2020-06-05 17:57:00,518: Starting code for region Wales with 4 seats.\n"
     ]
    }
   ],
   "source": [
    "for i in [2,3,4]:\n",
    "    get_solns(const_pairs, const_tris, const_quads, i, 'Wales', max_solns=1e5)"
   ]
  },
  {
   "cell_type": "code",
   "execution_count": 15,
   "metadata": {},
   "outputs": [
    {
     "name": "stdout",
     "output_type": "stream",
     "text": [
      "INFO: 2020-06-05 15:36:03,112: Starting code for region Wales with 3 seats.\n",
      "INFO: 2020-06-05 15:36:03,112: Starting code for region Wales with 3 seats.\n",
      "134675\n",
      "134675\n",
      "INFO: 2020-06-05 15:36:07,731: Finished getting solutions for region Wales with 3 seats\n",
      "INFO: 2020-06-05 15:36:07,731: Finished getting solutions for region Wales with 3 seats\n"
     ]
    }
   ],
   "source": [
    "get_solns(const_pairs, const_tris, const_quads, 3, 'Wales', max_solns=1e7)"
   ]
  },
  {
   "cell_type": "code",
   "execution_count": null,
   "metadata": {},
   "outputs": [],
   "source": [
    "# Command to run with joblib.\n",
    "# Need to sort out a few things\n",
    "element_information = Parallel(n_jobs=4, verbose=10)(\n",
    "    delayed(get_solns)(const_pairs, const_tris, const_quads, seats, region, max_solns=1e7) for seats in [2,3,4] for region in regions)\n"
   ]
  },
  {
   "cell_type": "code",
   "execution_count": null,
   "metadata": {},
   "outputs": [],
   "source": []
  },
  {
   "cell_type": "markdown",
   "metadata": {},
   "source": [
    "#### Ignore\n",
    "Some code left over from initial work. Leaving in for the moment as may want to look at it later."
   ]
  },
  {
   "cell_type": "code",
   "execution_count": 60,
   "metadata": {},
   "outputs": [
    {
     "data": {
      "text/plain": [
       "(312500, 3)"
      ]
     },
     "execution_count": 60,
     "metadata": {},
     "output_type": "execute_result"
    }
   ],
   "source": [
    "from ast import literal_eval\n",
    "test = pd.read_csv(\"Solutions/solns_East_3.csv.gz\", dtype={'region': str}, converters={'soln': literal_eval})\n",
    "test.shape"
   ]
  },
  {
   "cell_type": "code",
   "execution_count": 77,
   "metadata": {},
   "outputs": [
    {
     "data": {
      "text/plain": [
       "False    191560\n",
       "True     120940\n",
       "dtype: int64"
      ]
     },
     "execution_count": 77,
     "metadata": {},
     "output_type": "execute_result"
    }
   ],
   "source": [
    "tf = test['soln'].apply(pd.Series).duplicated()\n",
    "pd.value_counts(tf)\n"
   ]
  },
  {
   "cell_type": "code",
   "execution_count": 61,
   "metadata": {},
   "outputs": [],
   "source": [
    "test = test.assign(sorted_soln = [list(np.sort(t)) for t in test['soln']])"
   ]
  },
  {
   "cell_type": "code",
   "execution_count": 62,
   "metadata": {},
   "outputs": [
    {
     "data": {
      "text/html": [
       "<div>\n",
       "<style scoped>\n",
       "    .dataframe tbody tr th:only-of-type {\n",
       "        vertical-align: middle;\n",
       "    }\n",
       "\n",
       "    .dataframe tbody tr th {\n",
       "        vertical-align: top;\n",
       "    }\n",
       "\n",
       "    .dataframe thead th {\n",
       "        text-align: right;\n",
       "    }\n",
       "</style>\n",
       "<table border=\"1\" class=\"dataframe\">\n",
       "  <thead>\n",
       "    <tr style=\"text-align: right;\">\n",
       "      <th></th>\n",
       "      <th>soln</th>\n",
       "      <th>quad</th>\n",
       "      <th>region</th>\n",
       "      <th>sorted_soln</th>\n",
       "    </tr>\n",
       "  </thead>\n",
       "  <tbody>\n",
       "    <tr>\n",
       "      <th>39624</th>\n",
       "      <td>[198, 328, 169, 17, 64, 184, 345, 93, 336, 143...</td>\n",
       "      <td>560</td>\n",
       "      <td>East</td>\n",
       "      <td>[17, 26, 64, 93, 129, 143, 161, 169, 184, 198,...</td>\n",
       "    </tr>\n",
       "    <tr>\n",
       "      <th>242776</th>\n",
       "      <td>[198, 350, 157, 24, 171, 394, 152, 174, 349, 9...</td>\n",
       "      <td>1051</td>\n",
       "      <td>East</td>\n",
       "      <td>[7, 24, 66, 96, 117, 152, 157, 171, 174, 198, ...</td>\n",
       "    </tr>\n",
       "    <tr>\n",
       "      <th>170581</th>\n",
       "      <td>[22, 281, 198, 17, 169, 328, 194, 63, 213, 311...</td>\n",
       "      <td>2094</td>\n",
       "      <td>East</td>\n",
       "      <td>[17, 22, 55, 63, 103, 138, 155, 169, 188, 194,...</td>\n",
       "    </tr>\n",
       "    <tr>\n",
       "      <th>308636</th>\n",
       "      <td>[401, 198, 87, 113, 169, 8, 192, 50, 131, 406,...</td>\n",
       "      <td>4435</td>\n",
       "      <td>East</td>\n",
       "      <td>[8, 18, 50, 87, 101, 113, 131, 157, 169, 192, ...</td>\n",
       "    </tr>\n",
       "    <tr>\n",
       "      <th>10574</th>\n",
       "      <td>[198, 396, 169, 157, 252, 131, 210, 403, 101, ...</td>\n",
       "      <td>715</td>\n",
       "      <td>East</td>\n",
       "      <td>[3, 21, 101, 126, 131, 157, 169, 197, 198, 205...</td>\n",
       "    </tr>\n",
       "    <tr>\n",
       "      <th>272010</th>\n",
       "      <td>[198, 350, 159, 189, 169, 17, 64, 24, 316, 135...</td>\n",
       "      <td>4480</td>\n",
       "      <td>East</td>\n",
       "      <td>[17, 24, 64, 100, 126, 135, 159, 169, 189, 198...</td>\n",
       "    </tr>\n",
       "    <tr>\n",
       "      <th>150483</th>\n",
       "      <td>[22, 281, 198, 171, 394, 1, 253, 160, 191, 311...</td>\n",
       "      <td>3685</td>\n",
       "      <td>East</td>\n",
       "      <td>[1, 22, 58, 101, 118, 142, 160, 171, 174, 191,...</td>\n",
       "    </tr>\n",
       "    <tr>\n",
       "      <th>1555</th>\n",
       "      <td>[198, 171, 394, 156, 252, 19, 131, 210, 369, 9...</td>\n",
       "      <td>888</td>\n",
       "      <td>East</td>\n",
       "      <td>[11, 19, 63, 99, 131, 156, 171, 192, 198, 210,...</td>\n",
       "    </tr>\n",
       "    <tr>\n",
       "      <th>76889</th>\n",
       "      <td>[315, 198, 253, 396, 169, 348, 91, 336, 164, 2...</td>\n",
       "      <td>2212</td>\n",
       "      <td>East</td>\n",
       "      <td>[2, 26, 39, 91, 113, 164, 169, 191, 198, 225, ...</td>\n",
       "    </tr>\n",
       "    <tr>\n",
       "      <th>212789</th>\n",
       "      <td>[396, 169, 199, 203, 193, 174, 130, 281, 345, ...</td>\n",
       "      <td>5</td>\n",
       "      <td>East</td>\n",
       "      <td>[21, 51, 93, 130, 143, 169, 174, 193, 199, 203...</td>\n",
       "    </tr>\n",
       "  </tbody>\n",
       "</table>\n",
       "</div>"
      ],
      "text/plain": [
       "                                                     soln  quad region  \\\n",
       "39624   [198, 328, 169, 17, 64, 184, 345, 93, 336, 143...   560   East   \n",
       "242776  [198, 350, 157, 24, 171, 394, 152, 174, 349, 9...  1051   East   \n",
       "170581  [22, 281, 198, 17, 169, 328, 194, 63, 213, 311...  2094   East   \n",
       "308636  [401, 198, 87, 113, 169, 8, 192, 50, 131, 406,...  4435   East   \n",
       "10574   [198, 396, 169, 157, 252, 131, 210, 403, 101, ...   715   East   \n",
       "272010  [198, 350, 159, 189, 169, 17, 64, 24, 316, 135...  4480   East   \n",
       "150483  [22, 281, 198, 171, 394, 1, 253, 160, 191, 311...  3685   East   \n",
       "1555    [198, 171, 394, 156, 252, 19, 131, 210, 369, 9...   888   East   \n",
       "76889   [315, 198, 253, 396, 169, 348, 91, 336, 164, 2...  2212   East   \n",
       "212789  [396, 169, 199, 203, 193, 174, 130, 281, 345, ...     5   East   \n",
       "\n",
       "                                              sorted_soln  \n",
       "39624   [17, 26, 64, 93, 129, 143, 161, 169, 184, 198,...  \n",
       "242776  [7, 24, 66, 96, 117, 152, 157, 171, 174, 198, ...  \n",
       "170581  [17, 22, 55, 63, 103, 138, 155, 169, 188, 194,...  \n",
       "308636  [8, 18, 50, 87, 101, 113, 131, 157, 169, 192, ...  \n",
       "10574   [3, 21, 101, 126, 131, 157, 169, 197, 198, 205...  \n",
       "272010  [17, 24, 64, 100, 126, 135, 159, 169, 189, 198...  \n",
       "150483  [1, 22, 58, 101, 118, 142, 160, 171, 174, 191,...  \n",
       "1555    [11, 19, 63, 99, 131, 156, 171, 192, 198, 210,...  \n",
       "76889   [2, 26, 39, 91, 113, 164, 169, 191, 198, 225, ...  \n",
       "212789  [21, 51, 93, 130, 143, 169, 174, 193, 199, 203...  "
      ]
     },
     "execution_count": 62,
     "metadata": {},
     "output_type": "execute_result"
    }
   ],
   "source": [
    "test.sample(10)"
   ]
  },
  {
   "cell_type": "code",
   "execution_count": 84,
   "metadata": {},
   "outputs": [
    {
     "name": "stdout",
     "output_type": "stream",
     "text": [
      "Time taken = 1.3800s\n"
     ]
    }
   ],
   "source": [
    "start1 = datetime.now()\n",
    "for seats in [2,3,4]:\n",
    "    for region in regions:\n",
    "        count_n(const_pairs, const_tris, const_quads, seats, region)\n",
    "end1 = datetime.now()\n",
    "print(f\"Time taken = {(end1-start1).total_seconds():.4f}s\")"
   ]
  },
  {
   "cell_type": "code",
   "execution_count": 85,
   "metadata": {},
   "outputs": [
    {
     "name": "stderr",
     "output_type": "stream",
     "text": [
      "[Parallel(n_jobs=4)]: Using backend LokyBackend with 4 concurrent workers.\n",
      "[Parallel(n_jobs=4)]: Done   5 tasks      | elapsed:    2.8s\n",
      "[Parallel(n_jobs=4)]: Done  10 tasks      | elapsed:    3.3s\n",
      "[Parallel(n_jobs=4)]: Done  17 tasks      | elapsed:    4.5s\n",
      "[Parallel(n_jobs=4)]: Done  24 tasks      | elapsed:    5.7s\n",
      "[Parallel(n_jobs=4)]: Done  33 out of  36 | elapsed:    7.3s remaining:    0.7s\n"
     ]
    },
    {
     "name": "stdout",
     "output_type": "stream",
     "text": [
      "The total time taken is 7.7780s\n"
     ]
    },
    {
     "name": "stderr",
     "output_type": "stream",
     "text": [
      "[Parallel(n_jobs=4)]: Done  36 out of  36 | elapsed:    7.8s finished\n"
     ]
    }
   ],
   "source": [
    "start = datetime.now() \n",
    "element_information = Parallel(n_jobs=4, verbose=10)(\n",
    "    delayed(count_n)(const_pairs, const_tris, const_quads, seats, region) for seats in [2,3,4] for region in regions)\n",
    "end = datetime.now() \n",
    "print(f\"The total time taken is {(end-start).total_seconds():.4f}s\")"
   ]
  },
  {
   "cell_type": "code",
   "execution_count": null,
   "metadata": {},
   "outputs": [],
   "source": []
  }
 ],
 "metadata": {
  "kernelspec": {
   "display_name": "Python 3",
   "language": "python",
   "name": "python3"
  },
  "language_info": {
   "codemirror_mode": {
    "name": "ipython",
    "version": 3
   },
   "file_extension": ".py",
   "mimetype": "text/x-python",
   "name": "python",
   "nbconvert_exporter": "python",
   "pygments_lexer": "ipython3",
   "version": "3.5.3"
  }
 },
 "nbformat": 4,
 "nbformat_minor": 4
}
