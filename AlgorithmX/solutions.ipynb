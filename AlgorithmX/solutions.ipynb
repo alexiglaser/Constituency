{
 "cells": [
  {
   "cell_type": "markdown",
   "metadata": {},
   "source": [
    "# Algorithm X application to constituency data\n",
    "\n",
    "Previously we found all sets of 2 / 3 / 4 constituencies which are neighbours, i.e. those constituencies which share a border, which we shall call sets (with a unique identifier `set_no`). We will now apply Algorithm X to these merged constituencies and find (a subset of) solutions so that every constituency is selected once and only once. We shall do this on a region-by-region basis for two reasons:\n",
    "\n",
    "1. it will reduce the amount of possible combinations substantially\n",
    "1. it also (mostly) ensures consistency of political parties, so that e.g. we wouldn't have one constituency on England and one in Wales, so that Plaid Cymru vote would potentially halve.\n",
    "\n",
    "There are often times when the total number of constituencies in a region is not divisible by 2 / 3 / 4. For these cases we shall remove a set from a different constituency size until they are divisible, e.g. for the North East we have 29 constituencies so if we want to find all solutions where we merge 2 constituencies we shall pick at random one of the sets where 3 constituencies have been merged and remove them from our initial analysis. We shall repeat this, removing another of the 3-way merged sets, until we get a large enough sample.\n",
    "\n",
    "For some of the sets we have a large number of solutions, so we will only keep a subset of them. When there are a large number of solutions we shall rerun the analysis with the dataframe resampled and this can change the initial solutions given.\n",
    "\n",
    "The (sampled) solutions will be saved as csv files.\n"
   ]
  },
  {
   "cell_type": "code",
   "execution_count": 2,
   "metadata": {},
   "outputs": [],
   "source": [
    "import numpy as np\n",
    "import pandas as pd\n",
    "from AlgorithmX import *\n",
    "from joblib import Parallel, delayed\n",
    "from random import random, sample\n",
    "import os"
   ]
  },
  {
   "cell_type": "code",
   "execution_count": 3,
   "metadata": {},
   "outputs": [],
   "source": [
    "const_pairs = pd.read_csv(\"../Analysis/Data/const_pairs.csv.gz\")\n",
    "const_tris = pd.read_csv(\"../Analysis/Data/const_tris.csv.gz\")\n",
    "const_quads = pd.read_csv(\"../Analysis/Data/const_quads.csv.gz\")"
   ]
  },
  {
   "cell_type": "code",
   "execution_count": 4,
   "metadata": {},
   "outputs": [],
   "source": [
    "def const_mapper(df):\n",
    "    \"\"\"\n",
    "    As the AlgorithmX code requires inputs starting from zero we shall take all values in the dataframes\n",
    "    and map them to ints. This function will return the solver required.\n",
    "    The df is always randomly resampled when we run this so that we get a different initial answer each time.\n",
    "    \"\"\"\n",
    "    df = df.sample(len(df))\n",
    "    col_names = df.columns[df.columns.str.startswith('name')]\n",
    "    const_list = np.unique(df[col_names].stack())\n",
    "    n = len(const_list)\n",
    "    mapping = {}\n",
    "    for i in range(n):\n",
    "        mapping[const_list[i]] = i\n",
    "    for col in col_names:\n",
    "        df = df.replace({col: mapping})\n",
    "    solver = AlgorithmX(n)\n",
    "    for index, row in df.iterrows():\n",
    "        solver.appendRow([r for r in row[col_names]], row['set_no'])\n",
    "    return solver"
   ]
  },
  {
   "cell_type": "code",
   "execution_count": 5,
   "metadata": {},
   "outputs": [],
   "source": [
    "def return_solutions(df, prop = None, max_soln = 1e7, resampled=False):\n",
    "    \"\"\"\n",
    "    This function returns the solutions from the AlgorithmX code.\n",
    "    prop - states what proportion of the solutions are returned (useful for when they get too big)\n",
    "    max_soln - maximum number of solutions to derive\n",
    "    resampled - is this solution being rerun\n",
    "    \"\"\"\n",
    "    max_returned = 2.5e6\n",
    "    \n",
    "    solver = const_mapper(df)\n",
    "    solns = 0\n",
    "    dict_solns = {}\n",
    "    for solution in solver.solve():\n",
    "        dict_solns[solns] = solution\n",
    "        solns += 1\n",
    "        if solns == max_soln:\n",
    "            resampled = True # As we will be rerunning this with a dataframe 'resampled' data frame\n",
    "            break\n",
    "    \n",
    "    # If the result is too big take a sample. If the solution is going to be resampled take a small proportion\n",
    "    # otherwise take a larger one\n",
    "    if not resampled and solns <= max_returned:\n",
    "        sampled_solns = pd.DataFrame({'soln': dict_solns}).reset_index(drop=True)\n",
    "    else:\n",
    "        if not resampled:\n",
    "            keys = sample(list(dict_solns.keys()), max_returned)\n",
    "        else:\n",
    "            keys = sample(list(dict_solns.keys()), int(max_soln*0.0025))\n",
    "        dict_solns2 = {}\n",
    "        for k in keys:\n",
    "            dict_solns2[k] = dict_solns[k]\n",
    "        sampled_solns = pd.DataFrame({'soln': dict_solns2}).reset_index(drop=True)\n",
    "    return sampled_solns, resampled\n",
    "\n",
    "    # Need to add in the following:\n",
    "    # 1. Stop when solutions become too big, rerun with resampled df and take sample of that - DONE\n",
    "    # 2. when we remove some other random constituencies how do we rerun it and run it multiple times\n",
    "    #        - need a counter to ensure we get a solution too \n",
    "    # 3. how do we cope with zero solutions, e.g. Yorkshire when we have triplets\n",
    "        "
   ]
  },
  {
   "cell_type": "code",
   "execution_count": 6,
   "metadata": {},
   "outputs": [],
   "source": [
    "def to_remove_names(df):\n",
    "    \"\"\"\n",
    "    In the randomly selected 'set_no' to remove put the names into a list\n",
    "    \"\"\"\n",
    "    return df.loc[:, df.columns.str.startswith('name')].values.tolist()[0]"
   ]
  },
  {
   "cell_type": "code",
   "execution_count": 146,
   "metadata": {},
   "outputs": [],
   "source": [
    "def remove_random_const(const_pairs, const_tris, const_quads, seats, region, n):\n",
    "    \"\"\"\n",
    "    This function removes randomly selected pairs / triplets / quadruplets to make sure\n",
    "    that the number of constituencies left are divisble by the number of seats\n",
    "    \"\"\"\n",
    "    removed = {}\n",
    "    if seats == 2:\n",
    "        df = const_pairs.copy()\n",
    "        random_const = const_tris.sample(1)\n",
    "        removed['triplet'] = random_const['set_no'].iloc[0]\n",
    "        to_remove = to_remove_names(random_const)\n",
    "    elif seats == 3:\n",
    "        df = const_tris.copy()\n",
    "        if (seats == 3) & (n % seats == 1):\n",
    "            random_const = const_quads.sample(1)\n",
    "            removed['quad'] = random_const['set_no'].iloc[0]\n",
    "            to_remove = to_remove_names(random_const)\n",
    "        elif (seats == 3) & (n % seats == 2):\n",
    "            random_const = const_pairs.sample(1)\n",
    "            removed['pair'] = random_const['set_no'].iloc[0]\n",
    "            to_remove = to_remove_names(random_const)\n",
    "    elif seats == 4:\n",
    "        df = const_quads.copy()\n",
    "        # Need to ensure that when we remove multiple elements that none are repeated\n",
    "        if (n % seats == 2) or (n % seats == 1):\n",
    "            df2 = const_tris.copy()\n",
    "            name_cols = df2.columns[df2.columns.str.startswith('name')]\n",
    "        if n % seats == 1:\n",
    "            # remove 3 triplets\n",
    "            to_remove = []\n",
    "            for i in range(3):\n",
    "                random_const = df2.sample(1)\n",
    "                if i == 0:\n",
    "                    removed['triplet'] = random_const['set_no'].iloc[0]\n",
    "                else:\n",
    "                    removed['triplet'] = [removed['triplet'], random_const['set_no'].iloc[0]]\n",
    "                to_remove = to_remove + to_remove_names(random_const)\n",
    "                for name in name_cols:\n",
    "                    df2 = df2[~df2[name].isin(to_remove)]\n",
    "        elif n % seats == 2:\n",
    "            # remove 2 triplets\n",
    "            to_remove = []\n",
    "            for i in range(2):\n",
    "                random_const = df2.sample(1)\n",
    "                if i == 0:\n",
    "                    removed['triplet'] = random_const['set_no'].iloc[0]\n",
    "                else:\n",
    "                    removed['triplet'] = [removed['triplet'], random_const['set_no'].iloc[0]]\n",
    "                to_remove = to_remove + to_remove_names(random_const)\n",
    "                for name in name_cols:\n",
    "                    df2 = df2[~df2[name].isin(to_remove)]\n",
    "        elif n % seats == 3:\n",
    "            random_const = const_tris.sample(1)\n",
    "            removed['triplet'] = random_const['set_no'].iloc[0]\n",
    "            to_remove = to_remove_names(random_const)\n",
    "    name_cols = df.columns[df.columns.str.startswith('name')]\n",
    "    for name in name_cols:\n",
    "        df = df[~df[name].isin(to_remove)]\n",
    "    return df, removed"
   ]
  },
  {
   "cell_type": "code",
   "execution_count": 155,
   "metadata": {},
   "outputs": [],
   "source": [
    "def get_solns(const_pairs, const_tris, const_quads, seats, region):\n",
    "    \"\"\"\n",
    "    Find the solutions, or a subset of them, and saves them into a csv file\n",
    "    \"\"\"\n",
    "    const_pairs2 = const_pairs.query(\"region == @region\")\n",
    "    const_tris2 = const_tris.query(\"region == @region\")\n",
    "    const_quads2 = const_quads.query(\"region == @region\")\n",
    "    if seats == 2:\n",
    "        df = const_pairs2\n",
    "    elif seats == 3:\n",
    "        df = const_tris2\n",
    "    elif seats == 4:\n",
    "        df = const_quads2\n",
    "    col_names = df.columns[df.columns.str.startswith('name')]\n",
    "    const_list = np.unique(df[col_names].stack())\n",
    "    n = len(const_list)\n",
    "    r = region.replace(\" \", \"_\")\n",
    "    file_name = f\"Solutions/solns_{r}_{seats}.csv\"\n",
    "    if n % seats == 0:\n",
    "        solns, resampled = return_solutions(df, resampled=False)\n",
    "        if resampled:\n",
    "            d = {}\n",
    "            d[0] = solns.copy()\n",
    "            for j in range(1, 10):\n",
    "                d[j], resampled = return_solutions(df, resampled=True)\n",
    "            solns = pd.concat(d)\n",
    "        if len(solns) == 0:\n",
    "            print(f\"For the {region} region, when we have {seats} seats there are no solutions.\")\n",
    "    else:\n",
    "        # Get the solutions multiple times with different random elements removed.\n",
    "        soln_dict = {}\n",
    "        for i in range(5):\n",
    "            print(f\"i: {i}\")\n",
    "            df, removed = remove_random_const(const_pairs2, const_tris2, const_quads2, seats, region, n)\n",
    "            soln_dict[i], resampled = return_solutions(df, resampled=False, max_soln=1e6)\n",
    "            if resampled:\n",
    "                d = {}\n",
    "                d[0] = soln_dict[i].copy()\n",
    "                for j in range(1, 5):\n",
    "                    print(f\"j: {j}\")\n",
    "                    d[j], resampled = return_solutions(df, resampled=True, max_soln=1e6)\n",
    "                soln_dict[i] = pd.concat(d)\n",
    "            # Add in the set_no's that were removed from the solutions\n",
    "            soln_dict[i][list(removed.keys())[0]] = str(list(removed.values())[0])\n",
    "        solns = pd.concat(soln_dict)\n",
    "    if len(solns) > 0:\n",
    "        solns = solns.assign(region = region)\n",
    "        solns.to_csv(file_name, index=False)"
   ]
  },
  {
   "cell_type": "code",
   "execution_count": null,
   "metadata": {
    "scrolled": true
   },
   "outputs": [
    {
     "name": "stdout",
     "output_type": "stream",
     "text": [
      "i: 0\n",
      "j: 1\n",
      "j: 2\n",
      "j: 3\n",
      "j: 4\n",
      "i: 1\n",
      "j: 1\n",
      "j: 2\n",
      "j: 3\n",
      "j: 4\n",
      "i: 2\n",
      "j: 1\n",
      "j: 2\n",
      "j: 3\n",
      "j: 4\n",
      "i: 3\n"
     ]
    }
   ],
   "source": [
    "get_solns(const_pairs, const_tris, const_quads, 4, 'London')"
   ]
  },
  {
   "cell_type": "code",
   "execution_count": null,
   "metadata": {},
   "outputs": [],
   "source": [
    "# Command to run with joblib.\n",
    "# Need to sort out a few things\n",
    "element_information = Parallel(n_jobs=4, verbose=10)(\n",
    "    delayed(get_solns)(const_pairs, const_tris, const_quads, seats, region) for seats in [2,3,4] for region in regions)\n"
   ]
  },
  {
   "cell_type": "code",
   "execution_count": null,
   "metadata": {},
   "outputs": [],
   "source": []
  },
  {
   "cell_type": "markdown",
   "metadata": {},
   "source": [
    "#### Ignore\n",
    "Some code left over from initial work. Leaving in for the moment as may want to look at it later."
   ]
  },
  {
   "cell_type": "code",
   "execution_count": 11,
   "metadata": {},
   "outputs": [],
   "source": [
    "regions = np.unique(const_pairs['region'])"
   ]
  },
  {
   "cell_type": "code",
   "execution_count": 82,
   "metadata": {},
   "outputs": [],
   "source": [
    "def count_n(const_pairs, const_tris, const_quads, seats, region):\n",
    "    if seats == 2:\n",
    "        orig = const_pairs.copy()\n",
    "    elif seats == 3:\n",
    "        orig = const_tris.copy()\n",
    "    elif seats == 4:\n",
    "        orig = const_quads.copy()\n",
    "    col_names = orig.columns[orig.columns.str.startswith('name')]\n",
    "    df = orig.query(\"region == @region\")\n",
    "    const_list = np.unique(df[col_names].stack())\n",
    "    n = len(const_list)\n",
    "    return n\n"
   ]
  },
  {
   "cell_type": "code",
   "execution_count": 84,
   "metadata": {},
   "outputs": [
    {
     "name": "stdout",
     "output_type": "stream",
     "text": [
      "Time taken = 1.3800s\n"
     ]
    }
   ],
   "source": [
    "start1 = datetime.now()\n",
    "for seats in [2,3,4]:\n",
    "    for region in regions:\n",
    "        count_n(const_pairs, const_tris, const_quads, seats, region)\n",
    "end1 = datetime.now()\n",
    "print(f\"Time taken = {(end1-start1).total_seconds():.4f}s\")"
   ]
  },
  {
   "cell_type": "code",
   "execution_count": 85,
   "metadata": {},
   "outputs": [
    {
     "name": "stderr",
     "output_type": "stream",
     "text": [
      "[Parallel(n_jobs=4)]: Using backend LokyBackend with 4 concurrent workers.\n",
      "[Parallel(n_jobs=4)]: Done   5 tasks      | elapsed:    2.8s\n",
      "[Parallel(n_jobs=4)]: Done  10 tasks      | elapsed:    3.3s\n",
      "[Parallel(n_jobs=4)]: Done  17 tasks      | elapsed:    4.5s\n",
      "[Parallel(n_jobs=4)]: Done  24 tasks      | elapsed:    5.7s\n",
      "[Parallel(n_jobs=4)]: Done  33 out of  36 | elapsed:    7.3s remaining:    0.7s\n"
     ]
    },
    {
     "name": "stdout",
     "output_type": "stream",
     "text": [
      "The total time taken is 7.7780s\n"
     ]
    },
    {
     "name": "stderr",
     "output_type": "stream",
     "text": [
      "[Parallel(n_jobs=4)]: Done  36 out of  36 | elapsed:    7.8s finished\n"
     ]
    }
   ],
   "source": [
    "start = datetime.now() \n",
    "element_information = Parallel(n_jobs=4, verbose=10)(\n",
    "    delayed(count_n)(const_pairs, const_tris, const_quads, seats, region) for seats in [2,3,4] for region in regions)\n",
    "end = datetime.now() \n",
    "print(f\"The total time taken is {(end-start).total_seconds():.4f}s\")"
   ]
  },
  {
   "cell_type": "code",
   "execution_count": 86,
   "metadata": {},
   "outputs": [
    {
     "name": "stdout",
     "output_type": "stream",
     "text": [
      "The time taken to concatenate is 0:00:03.046728s\n"
     ]
    }
   ],
   "source": [
    "from datetime import datetime,timedelta\n",
    "start = datetime.now() \n",
    "dtypes={'x': int, 'y': float}\n",
    "test = pd.read_csv(\"Solutions/test.csv\", low_memory=False) #, dtype=dtypes)\n",
    "end = datetime.now() \n",
    "print(f\"The time taken to concatenate is {end - start}s\")"
   ]
  },
  {
   "cell_type": "code",
   "execution_count": 87,
   "metadata": {},
   "outputs": [
    {
     "name": "stdout",
     "output_type": "stream",
     "text": [
      "The time taken to concatenate is 0:00:02.798389s\n"
     ]
    }
   ],
   "source": [
    "from datetime import datetime,timedelta\n",
    "start = datetime.now() \n",
    "dtypes={'x': int, 'y': float}\n",
    "test = pd.read_csv(\"Solutions/test.csv\") #, low_memory=False, dtype=dtypes)\n",
    "end = datetime.now() \n",
    "print(f\"The time taken to concatenate is {end - start}s\")"
   ]
  },
  {
   "cell_type": "code",
   "execution_count": 7,
   "metadata": {},
   "outputs": [
    {
     "name": "stdout",
     "output_type": "stream",
     "text": [
      "The time taken to create the dataframe is 0:04:58.224902s\n",
      "The time taken to concatenate is 0:01:03.580685s\n"
     ]
    }
   ],
   "source": [
    "d = {}\n",
    "start = datetime.now() \n",
    "for i in range(100000):\n",
    "    d[i+1] = pd.DataFrame(data={'region': random.choice(region), \n",
    "                                'solns': [[random.sample(popn1, 100)]], \n",
    "                                'trips': [random.choice(popn2)]})\n",
    "end = datetime.now() \n",
    "print(f\"The time taken to create the dataframe is {end - start}s\")\n",
    "\n",
    "start = datetime.now() \n",
    "df = pd.concat(d, ignore_index=True)\n",
    "end = datetime.now() \n",
    "print(f\"The time taken to concatenate is {end - start}s\")"
   ]
  },
  {
   "cell_type": "code",
   "execution_count": 70,
   "metadata": {},
   "outputs": [],
   "source": [
    "from datetime import datetime,timedelta"
   ]
  },
  {
   "cell_type": "code",
   "execution_count": 81,
   "metadata": {},
   "outputs": [
    {
     "name": "stdout",
     "output_type": "stream",
     "text": [
      "The time taken is 0:02:04.179022s\n"
     ]
    }
   ],
   "source": [
    "start = datetime.now() \n",
    "df = pd.concat(d, ignore_index=True)\n",
    "end = datetime.now() \n",
    "print(f\"The time taken is {end - start}s\")"
   ]
  },
  {
   "cell_type": "code",
   "execution_count": 77,
   "metadata": {
    "scrolled": true
   },
   "outputs": [
    {
     "data": {
      "text/html": [
       "<div>\n",
       "<style scoped>\n",
       "    .dataframe tbody tr th:only-of-type {\n",
       "        vertical-align: middle;\n",
       "    }\n",
       "\n",
       "    .dataframe tbody tr th {\n",
       "        vertical-align: top;\n",
       "    }\n",
       "\n",
       "    .dataframe thead th {\n",
       "        text-align: right;\n",
       "    }\n",
       "</style>\n",
       "<table border=\"1\" class=\"dataframe\">\n",
       "  <thead>\n",
       "    <tr style=\"text-align: right;\">\n",
       "      <th></th>\n",
       "      <th>region</th>\n",
       "      <th>solns</th>\n",
       "      <th>trips</th>\n",
       "    </tr>\n",
       "  </thead>\n",
       "  <tbody>\n",
       "    <tr>\n",
       "      <th>0</th>\n",
       "      <td>North West</td>\n",
       "      <td>[[1792, 1402, 2454, 2025, 2018, 618, 450, 997,...</td>\n",
       "      <td>1</td>\n",
       "    </tr>\n",
       "    <tr>\n",
       "      <th>1</th>\n",
       "      <td>Scotland</td>\n",
       "      <td>[[771, 1374, 99, 1496, 527, 1020, 1393, 271, 3...</td>\n",
       "      <td>1</td>\n",
       "    </tr>\n",
       "    <tr>\n",
       "      <th>2</th>\n",
       "      <td>South West</td>\n",
       "      <td>[[233, 769, 983, 2231, 2267, 1739, 611, 2084, ...</td>\n",
       "      <td>1</td>\n",
       "    </tr>\n",
       "    <tr>\n",
       "      <th>3</th>\n",
       "      <td>Scotland</td>\n",
       "      <td>[[2310, 201, 1768, 431, 2450, 926, 368, 775, 1...</td>\n",
       "      <td>1</td>\n",
       "    </tr>\n",
       "    <tr>\n",
       "      <th>4</th>\n",
       "      <td>Scotland</td>\n",
       "      <td>[[1939, 135, 1235, 374, 417, 982, 2106, 827, 6...</td>\n",
       "      <td>1</td>\n",
       "    </tr>\n",
       "    <tr>\n",
       "      <th>5</th>\n",
       "      <td>Northern Ireland</td>\n",
       "      <td>[[2067, 877, 1493, 123, 542, 939, 1750, 893, 9...</td>\n",
       "      <td>1</td>\n",
       "    </tr>\n",
       "    <tr>\n",
       "      <th>6</th>\n",
       "      <td>East</td>\n",
       "      <td>[[204, 2371, 656, 1651, 194, 530, 1798, 468, 1...</td>\n",
       "      <td>None</td>\n",
       "    </tr>\n",
       "    <tr>\n",
       "      <th>7</th>\n",
       "      <td>Scotland</td>\n",
       "      <td>[[55, 38, 58, 1948, 176, 50, 1349, 210, 1649, ...</td>\n",
       "      <td>None</td>\n",
       "    </tr>\n",
       "    <tr>\n",
       "      <th>8</th>\n",
       "      <td>Wales</td>\n",
       "      <td>[[1475, 1748, 469, 7, 539, 1338, 1557, 425, 72...</td>\n",
       "      <td>1</td>\n",
       "    </tr>\n",
       "    <tr>\n",
       "      <th>9</th>\n",
       "      <td>West Midlands</td>\n",
       "      <td>[[456, 1459, 1138, 1827, 762, 1468, 2057, 313,...</td>\n",
       "      <td>1</td>\n",
       "    </tr>\n",
       "  </tbody>\n",
       "</table>\n",
       "</div>"
      ],
      "text/plain": [
       "             region                                              solns trips\n",
       "0        North West  [[1792, 1402, 2454, 2025, 2018, 618, 450, 997,...     1\n",
       "1          Scotland  [[771, 1374, 99, 1496, 527, 1020, 1393, 271, 3...     1\n",
       "2        South West  [[233, 769, 983, 2231, 2267, 1739, 611, 2084, ...     1\n",
       "3          Scotland  [[2310, 201, 1768, 431, 2450, 926, 368, 775, 1...     1\n",
       "4          Scotland  [[1939, 135, 1235, 374, 417, 982, 2106, 827, 6...     1\n",
       "5  Northern Ireland  [[2067, 877, 1493, 123, 542, 939, 1750, 893, 9...     1\n",
       "6              East  [[204, 2371, 656, 1651, 194, 530, 1798, 468, 1...  None\n",
       "7          Scotland  [[55, 38, 58, 1948, 176, 50, 1349, 210, 1649, ...  None\n",
       "8             Wales  [[1475, 1748, 469, 7, 539, 1338, 1557, 425, 72...     1\n",
       "9     West Midlands  [[456, 1459, 1138, 1827, 762, 1468, 2057, 313,...     1"
      ]
     },
     "execution_count": 77,
     "metadata": {},
     "output_type": "execute_result"
    }
   ],
   "source": [
    "df.head(10)"
   ]
  },
  {
   "cell_type": "code",
   "execution_count": 8,
   "metadata": {},
   "outputs": [
    {
     "data": {
      "text/html": [
       "<div>\n",
       "<style scoped>\n",
       "    .dataframe tbody tr th:only-of-type {\n",
       "        vertical-align: middle;\n",
       "    }\n",
       "\n",
       "    .dataframe tbody tr th {\n",
       "        vertical-align: top;\n",
       "    }\n",
       "\n",
       "    .dataframe thead th {\n",
       "        text-align: right;\n",
       "    }\n",
       "</style>\n",
       "<table border=\"1\" class=\"dataframe\">\n",
       "  <thead>\n",
       "    <tr style=\"text-align: right;\">\n",
       "      <th></th>\n",
       "      <th>region</th>\n",
       "      <th>solns</th>\n",
       "      <th>trips</th>\n",
       "    </tr>\n",
       "  </thead>\n",
       "  <tbody>\n",
       "    <tr>\n",
       "      <th>0</th>\n",
       "      <td>Yorkshire and The Humber</td>\n",
       "      <td>[[1602, 2187, 2307, 263, 1311, 231, 932, 687, ...</td>\n",
       "      <td>24</td>\n",
       "    </tr>\n",
       "    <tr>\n",
       "      <th>1</th>\n",
       "      <td>North West</td>\n",
       "      <td>[[1445, 1013, 2026, 1009, 1230, 2003, 2429, 14...</td>\n",
       "      <td>85</td>\n",
       "    </tr>\n",
       "    <tr>\n",
       "      <th>2</th>\n",
       "      <td>Wales</td>\n",
       "      <td>[[1760, 1659, 1134, 911, 508, 1623, 999, 2066,...</td>\n",
       "      <td>62</td>\n",
       "    </tr>\n",
       "    <tr>\n",
       "      <th>3</th>\n",
       "      <td>Northern Ireland</td>\n",
       "      <td>[[290, 1898, 244, 701, 2424, 2067, 1670, 1451,...</td>\n",
       "      <td>30</td>\n",
       "    </tr>\n",
       "    <tr>\n",
       "      <th>4</th>\n",
       "      <td>South West</td>\n",
       "      <td>[[1392, 1740, 2179, 46, 1818, 578, 1304, 1801,...</td>\n",
       "      <td>63</td>\n",
       "    </tr>\n",
       "    <tr>\n",
       "      <th>5</th>\n",
       "      <td>West Midlands</td>\n",
       "      <td>[[935, 993, 2076, 2352, 419, 626, 2365, 1719, ...</td>\n",
       "      <td>90</td>\n",
       "    </tr>\n",
       "    <tr>\n",
       "      <th>6</th>\n",
       "      <td>South East</td>\n",
       "      <td>[[2030, 1052, 1197, 225, 904, 807, 1318, 2491,...</td>\n",
       "      <td>68</td>\n",
       "    </tr>\n",
       "    <tr>\n",
       "      <th>7</th>\n",
       "      <td>Yorkshire and The Humber</td>\n",
       "      <td>[[1287, 382, 1714, 347, 394, 749, 642, 188, 22...</td>\n",
       "      <td>60</td>\n",
       "    </tr>\n",
       "    <tr>\n",
       "      <th>8</th>\n",
       "      <td>Northern Ireland</td>\n",
       "      <td>[[1173, 661, 2177, 592, 873, 304, 2279, 250, 1...</td>\n",
       "      <td>12</td>\n",
       "    </tr>\n",
       "    <tr>\n",
       "      <th>9</th>\n",
       "      <td>Wales</td>\n",
       "      <td>[[1719, 1819, 637, 29, 111, 1190, 2375, 467, 4...</td>\n",
       "      <td>38</td>\n",
       "    </tr>\n",
       "  </tbody>\n",
       "</table>\n",
       "</div>"
      ],
      "text/plain": [
       "                     region  \\\n",
       "0  Yorkshire and The Humber   \n",
       "1                North West   \n",
       "2                     Wales   \n",
       "3          Northern Ireland   \n",
       "4                South West   \n",
       "5             West Midlands   \n",
       "6                South East   \n",
       "7  Yorkshire and The Humber   \n",
       "8          Northern Ireland   \n",
       "9                     Wales   \n",
       "\n",
       "                                               solns trips  \n",
       "0  [[1602, 2187, 2307, 263, 1311, 231, 932, 687, ...    24  \n",
       "1  [[1445, 1013, 2026, 1009, 1230, 2003, 2429, 14...    85  \n",
       "2  [[1760, 1659, 1134, 911, 508, 1623, 999, 2066,...    62  \n",
       "3  [[290, 1898, 244, 701, 2424, 2067, 1670, 1451,...    30  \n",
       "4  [[1392, 1740, 2179, 46, 1818, 578, 1304, 1801,...    63  \n",
       "5  [[935, 993, 2076, 2352, 419, 626, 2365, 1719, ...    90  \n",
       "6  [[2030, 1052, 1197, 225, 904, 807, 1318, 2491,...    68  \n",
       "7  [[1287, 382, 1714, 347, 394, 749, 642, 188, 22...    60  \n",
       "8  [[1173, 661, 2177, 592, 873, 304, 2279, 250, 1...    12  \n",
       "9  [[1719, 1819, 637, 29, 111, 1190, 2375, 467, 4...    38  "
      ]
     },
     "execution_count": 8,
     "metadata": {},
     "output_type": "execute_result"
    }
   ],
   "source": [
    "df.head(10)"
   ]
  },
  {
   "cell_type": "code",
   "execution_count": 38,
   "metadata": {},
   "outputs": [],
   "source": [
    "from ast import literal_eval\n"
   ]
  },
  {
   "cell_type": "code",
   "execution_count": 44,
   "metadata": {},
   "outputs": [],
   "source": [
    "# df.to_csv(\"test.csv\", index=False)\n",
    "df2 = pd.read_csv(\"test.csv\", dtype={'region': str}, converters={'solns': literal_eval})"
   ]
  },
  {
   "cell_type": "code",
   "execution_count": 47,
   "metadata": {},
   "outputs": [
    {
     "data": {
      "text/plain": [
       "region    object\n",
       "solns     object\n",
       "trips      int64\n",
       "dtype: object"
      ]
     },
     "execution_count": 47,
     "metadata": {},
     "output_type": "execute_result"
    }
   ],
   "source": [
    "df2.dtypes"
   ]
  },
  {
   "cell_type": "code",
   "execution_count": 46,
   "metadata": {},
   "outputs": [
    {
     "name": "stdout",
     "output_type": "stream",
     "text": [
      "True\n",
      "True\n",
      "True\n"
     ]
    }
   ],
   "source": [
    "for col in df.columns:\n",
    "    print(df[col].equals(df2[col]))"
   ]
  },
  {
   "cell_type": "code",
   "execution_count": 50,
   "metadata": {},
   "outputs": [
    {
     "data": {
      "text/plain": [
       "([0, 1, 2, 3, 4], [0, 1, 2, 3, 4])"
      ]
     },
     "execution_count": 50,
     "metadata": {},
     "output_type": "execute_result"
    }
   ],
   "source": [
    "df[col][0], df2[col][0]"
   ]
  },
  {
   "cell_type": "code",
   "execution_count": 52,
   "metadata": {},
   "outputs": [
    {
     "data": {
      "text/plain": [
       "8"
      ]
     },
     "execution_count": 52,
     "metadata": {},
     "output_type": "execute_result"
    }
   ],
   "source": [
    "df2[col][4]"
   ]
  },
  {
   "cell_type": "code",
   "execution_count": 53,
   "metadata": {},
   "outputs": [
    {
     "data": {
      "text/html": [
       "<div>\n",
       "<style scoped>\n",
       "    .dataframe tbody tr th:only-of-type {\n",
       "        vertical-align: middle;\n",
       "    }\n",
       "\n",
       "    .dataframe tbody tr th {\n",
       "        vertical-align: top;\n",
       "    }\n",
       "\n",
       "    .dataframe thead th {\n",
       "        text-align: right;\n",
       "    }\n",
       "</style>\n",
       "<table border=\"1\" class=\"dataframe\">\n",
       "  <thead>\n",
       "    <tr style=\"text-align: right;\">\n",
       "      <th></th>\n",
       "      <th>region</th>\n",
       "      <th>solns</th>\n",
       "      <th>trips</th>\n",
       "    </tr>\n",
       "  </thead>\n",
       "  <tbody>\n",
       "    <tr>\n",
       "      <th>0</th>\n",
       "      <td>London</td>\n",
       "      <td>[0, 1, 2, 3, 4]</td>\n",
       "      <td>0</td>\n",
       "    </tr>\n",
       "    <tr>\n",
       "      <th>1</th>\n",
       "      <td>London</td>\n",
       "      <td>[2, 3, 4, 5, 6]</td>\n",
       "      <td>1</td>\n",
       "    </tr>\n",
       "    <tr>\n",
       "      <th>2</th>\n",
       "      <td>London</td>\n",
       "      <td>[4, 5, 6, 7, 8]</td>\n",
       "      <td>2</td>\n",
       "    </tr>\n",
       "    <tr>\n",
       "      <th>3</th>\n",
       "      <td>London</td>\n",
       "      <td>[6, 7, 8, 9, 10]</td>\n",
       "      <td>3</td>\n",
       "    </tr>\n",
       "    <tr>\n",
       "      <th>4</th>\n",
       "      <td>London</td>\n",
       "      <td>[8, 9, 10, 11, 12]</td>\n",
       "      <td>4</td>\n",
       "    </tr>\n",
       "  </tbody>\n",
       "</table>\n",
       "</div>"
      ],
      "text/plain": [
       "   region               solns  trips\n",
       "0  London     [0, 1, 2, 3, 4]      0\n",
       "1  London     [2, 3, 4, 5, 6]      1\n",
       "2  London     [4, 5, 6, 7, 8]      2\n",
       "3  London    [6, 7, 8, 9, 10]      3\n",
       "4  London  [8, 9, 10, 11, 12]      4"
      ]
     },
     "execution_count": 53,
     "metadata": {},
     "output_type": "execute_result"
    }
   ],
   "source": [
    "df2[df2.trips.isin(df2.solns[0])]"
   ]
  },
  {
   "cell_type": "code",
   "execution_count": 18,
   "metadata": {},
   "outputs": [],
   "source": [
    "const_pairs = pd.read_csv(\"../Analysis/Data/const_pairs.csv\")\n",
    "const_tris = pd.read_csv(\"../Analysis/Data/const_tris.csv\")\n",
    "const_quads = pd.read_csv(\"../Analysis/Data/const_quads.csv\")"
   ]
  },
  {
   "cell_type": "code",
   "execution_count": 19,
   "metadata": {},
   "outputs": [
    {
     "data": {
      "text/plain": [
       "((1476, 4), (4714, 5), (75048, 6))"
      ]
     },
     "execution_count": 19,
     "metadata": {},
     "output_type": "execute_result"
    }
   ],
   "source": [
    "const_pairs.shape, const_tris.shape, const_quads.shape"
   ]
  },
  {
   "cell_type": "code",
   "execution_count": null,
   "metadata": {},
   "outputs": [],
   "source": []
  }
 ],
 "metadata": {
  "kernelspec": {
   "display_name": "Python 3",
   "language": "python",
   "name": "python3"
  },
  "language_info": {
   "codemirror_mode": {
    "name": "ipython",
    "version": 3
   },
   "file_extension": ".py",
   "mimetype": "text/x-python",
   "name": "python",
   "nbconvert_exporter": "python",
   "pygments_lexer": "ipython3",
   "version": "3.7.6"
  }
 },
 "nbformat": 4,
 "nbformat_minor": 4
}
