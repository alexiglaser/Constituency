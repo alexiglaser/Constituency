{
 "cells": [
  {
   "cell_type": "markdown",
   "metadata": {},
   "source": [
    "## PyPy comparison\n",
    "This notebook will show you the speeds up obtained using the PyPy kernel. In the original 'merged_constituencies' notebook we had a test which originally about 200s for the `algo_x` code and about 130s for the `AlgorithmX` code. There were roughly 4.4m solutions"
   ]
  },
  {
   "cell_type": "code",
   "execution_count": 11,
   "metadata": {},
   "outputs": [],
   "source": [
    "# import numpy as np\n",
    "import pandas as pd\n",
    "import os\n",
    "\n",
    "from datetime import datetime,timedelta\n",
    "\n",
    "# Algorithm X codes\n",
    "from algo_x import *\n",
    "from AlgorithmX import *"
   ]
  },
  {
   "cell_type": "code",
   "execution_count": 14,
   "metadata": {},
   "outputs": [],
   "source": [
    "def if_exists_read_csv(filename: str):\n",
    "    if not os.path.exists(filename):\n",
    "        print(f\"{filename} does not exist\")\n",
    "        return None\n",
    "    return pd.read_csv(filename)"
   ]
  },
  {
   "cell_type": "code",
   "execution_count": 15,
   "metadata": {},
   "outputs": [
    {
     "name": "stdout",
     "output_type": "stream",
     "text": [
      "../Analysis/Data/const_pairs.csv does not exist\n",
      "../Analysis/Data/const_tris.csv does not exist\n",
      "../Analysis/Data/const_quads.csv does not exist\n"
     ]
    }
   ],
   "source": [
    "# Import neighbouring constituencies data created in the Analysis folder\n",
    "const_pairs = if_exists_read_csv(\"../Analysis/Data/const_pairs.csv\")\n",
    "const_tris = if_exists_read_csv(\"../Analysis/Data/const_tris.csv\")\n",
    "const_quads = if_exists_read_csv(\"../Analysis/Data/const_quads.csv\")"
   ]
  },
  {
   "cell_type": "code",
   "execution_count": null,
   "metadata": {},
   "outputs": [],
   "source": [
    "# Quick function running algorithm X (for Exact cover of neighbouring constiuencies) and printing the total number of solutions\n",
    "def all_solns(const_pairs, region, n=None):\n",
    "    df = const_pairs[const_pairs['region'] == region_name]\n",
    "    Y = {}\n",
    "    for i in range(len(df)):\n",
    "        Y[df['pairing'].iloc[i]] = {df['name1'].iloc[i], df['name2'].iloc[i]}\n",
    "\n",
    "    all_solns = ExactCover(Y, random = True)\n",
    "    i = 0\n",
    "    for a in all_solns:\n",
    "        i += 1\n",
    "    # Find out how many constituencies there are in the dictionary.\n",
    "    X = set([x for y in Y.values() for x in y])\n",
    "    print(f\"For the {region} region there are {i:,} solutions when there are {len(X)} constituencies.\")"
   ]
  },
  {
   "cell_type": "code",
   "execution_count": null,
   "metadata": {},
   "outputs": [],
   "source": [
    "# Using the algo_x code \n",
    "region_name = 'South East'\n",
    "# Pick out one of the 'triplets' \n",
    "random_trit = const_tris.iloc[2648] #const_tris[const_tris['pairing'] == 2649]\n",
    "const_pairs2 = const_pairs[(~const_pairs['name1'].isin(random_trit)) & (~const_pairs['name2'].isin(random_trit))]\n",
    "start = datetime.now() \n",
    "all_solns(const_pairs2, region_name)\n",
    "end = datetime.now() \n",
    "print(f\"The time taken is {end - start}s\")"
   ]
  },
  {
   "cell_type": "code",
   "execution_count": null,
   "metadata": {},
   "outputs": [],
   "source": [
    "# Using AlgorithmX code\n",
    "# This is the code that is installed when you run \"pip install algorithm-x\"\n",
    "region_name = 'South East'\n",
    "random_tri = const_tris.iloc[2648]\n",
    "const_pairs2 = const_pairs[(~const_pairs['name1'].isin(random_tri)) & (~const_pairs['name2'].isin(random_trit))]\n",
    "const_pairs3 = const_pairs2[const_pairs2['region'] == region_name]\n",
    "const_list = list(set(const_pairs3['name1']).union(set(const_pairs3['name2'])))\n",
    "# We need to replace the strings with numbers \n",
    "const_list = list(set(const_pairs3['name1']).union(set(const_pairs3['name2'])))\n",
    "n = len(const_list)\n",
    "mapping = {}\n",
    "for i in range(n):\n",
    "    mapping[const_list[i]] = i\n",
    "const_pairs3 = const_pairs3.replace({'name1': mapping, 'name2': mapping})\n",
    "solver = AlgorithmX(n)\n",
    "for index, row in const_pairs3.iterrows():\n",
    "    solver.appendRow([row['name1'], row['name2']], row['pairing'])\n",
    "start = datetime.now()\n",
    "i = 0\n",
    "for solution in solver.solve():\n",
    "    i += 1\n",
    "end = datetime.now()\n",
    "print(f\"For the {region_name} region there are {i:,} solutions when there are {n} constituencies.\")\n",
    "print(f\"The time taken is {end - start}s\")"
   ]
  },
  {
   "cell_type": "markdown",
   "metadata": {},
   "source": [
    "We barely see any speed up with the `algo_x` code (possibly it's even slower), however using the `AgortihmX` code with a PyPy kernel shows a speed up of about 5-fold to that seen before."
   ]
  },
  {
   "cell_type": "code",
   "execution_count": null,
   "metadata": {},
   "outputs": [],
   "source": []
  }
 ],
 "metadata": {
  "kernelspec": {
   "display_name": "Python 3",
   "language": "python",
   "name": "python3"
  }
 },
 "nbformat": 4,
 "nbformat_minor": 2
}
