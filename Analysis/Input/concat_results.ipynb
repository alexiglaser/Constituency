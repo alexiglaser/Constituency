{
 "cells": [
  {
   "cell_type": "markdown",
   "metadata": {},
   "source": [
    "# Concatenation of results\n",
    "Using the solutions found from Algorithm X we'll now concatenate our results so that any future analysis should be very quick. We will only use the results from using the D'Hondt method but it should be relatively simple to repeat this for any other method where we have the results.\n",
    "\n",
    "In these results we will also add in the following: the island constituencies of 'Isle of Wight', 'Orkney and Shetland', 'Ynys Mon', 'Na h-Eileanan an Iar' and the results from the Yorkshire and Humber region ('Brigg and Goole', 'Scunthorpe', 'Cleethorpes', 'Great Grimsby'). Also note that the Speaker's constituency of 'Chorley' (in the 'North West' region) has not been included as it is always one."
   ]
  },
  {
   "cell_type": "code",
   "execution_count": 1,
   "metadata": {},
   "outputs": [],
   "source": [
    "import numpy as np\n",
    "import pandas as pd\n",
    "import glob\n",
    "from ast import literal_eval\n",
    "import re"
   ]
  },
  {
   "cell_type": "code",
   "execution_count": 2,
   "metadata": {},
   "outputs": [],
   "source": [
    "df2h = pd.read_csv(\"../Data/MergedResults/const_merged_2_dhondt.csv.gz\")\n",
    "df3h = pd.read_csv(\"../Data/MergedResults/const_merged_3_dhondt.csv.gz\")\n",
    "df4h = pd.read_csv(\"../Data/MergedResults/const_merged_4_dhondt.csv.gz\")\n",
    "# df2w = pd.read_csv(\"../Data/MergedResults/const_merged_2_webster.csv.gz\")\n",
    "# df3w = pd.read_csv(\"../Data/MergedResults/const_merged_3_webster.csv.gz\")\n",
    "# df4w = pd.read_csv(\"../Data/MergedResults/const_merged_4_webster.csv.gz\")"
   ]
  },
  {
   "cell_type": "code",
   "execution_count": 3,
   "metadata": {},
   "outputs": [],
   "source": [
    "files = glob.glob(\"../Data/SampledSolutions/sampled_solns_*.csv.gz\")\n",
    "predicted_seats_dict = {}\n",
    "# Counter for dictionary\n",
    "for file in files:\n",
    "    init_dict = {}\n",
    "    seats = int(re.findall(\"[0-9]+\", file)[0])\n",
    "    region = re.sub(\"_[0-9]+.csv.gz\", \"\", file.replace(\"../Data/SampledSolutions/sampled_solns_\", \"\"))\n",
    "    key = region + \"_\" + str(seats)\n",
    "    region = region.replace(\"_\", \" \")\n",
    "    if seats < 4:\n",
    "        df = pd.read_csv(file, dtype={'region': str}, converters={'soln': literal_eval})\n",
    "    else:\n",
    "        df = pd.read_csv(file, dtype={'region': str}, converters={'soln': literal_eval, 'triplet': literal_eval})\n",
    "    # Counter for the key of the dictionary that will eventually form the \n",
    "    i = 0\n",
    "    for index, row in df.iterrows():\n",
    "        i += 1\n",
    "        if seats == 2:\n",
    "            df_seats = df2h[df2h['set_no'].isin(row['soln'])]\n",
    "            if 'triplet' in df.columns:\n",
    "                df_seats = pd.concat([df_seats, df3h[df3h['set_no'] == row['triplet']]], sort=False)\n",
    "        elif seats == 3:\n",
    "            df_seats = df3h[df3h['set_no'].isin(row['soln'])]\n",
    "            if 'pair' in df.columns:\n",
    "                df_seats = pd.concat([df_seats, df2h[df2h['set_no'] == row['pair']]], sort=False)\n",
    "            if 'quad' in df.columns:\n",
    "                df_seats = pd.concat([df_seats, df4h[df4h['set_no'] == row['quad']]], sort=False)\n",
    "        elif seats == 4:\n",
    "            df_seats = df4h[df4h['set_no'].isin(row['soln'])]\n",
    "            if 'triplet' in df.columns:\n",
    "                if type(row['triplet']) == list:\n",
    "                    df_seats = pd.concat([df_seats, df3h[df3h['set_no'].isin(row['triplet'])]], sort=False)\n",
    "                else:\n",
    "                    df_seats = pd.concat([df_seats, df3h[df3h['set_no'] == row['triplet']]], sort=False)\n",
    "        # Also have to add in the island constituencies which have been kept separate\n",
    "        if region == \"Scotland\":\n",
    "            dummy = pd.DataFrame(data={\"Liberal Democrat\": 1, \"Scottish National Party\": 1, \"set_no\":99999}, index = [99999,])\n",
    "        elif region == \"Wales\" or region == \"South East\":\n",
    "            dummy = pd.DataFrame(data={\"Conservative\": 1, \"set_no\":99999}, index = [99999,])\n",
    "        # In addition have to manually enter back in four seats from 'Yorkshire & the Humber' region due to\n",
    "        # a circular argument\n",
    "        elif region == \"Yorkshire and The Humber\":\n",
    "            if seats < 4:\n",
    "                dummy = pd.DataFrame(data={\"Conservative\": 4, \"set_no\":99999}, index = [99999,])\n",
    "            elif seats == 4:\n",
    "                dummy = pd.DataFrame(data={\"Conservative\": 3, \"Labour\": 1, \"set_no\":99999}, index = [99999,])\n",
    "        if region in [\"Scotland\",\"Wales'\",\"South East\",\"Yorkshire and The Humber\"]:\n",
    "            df_seats = pd.concat([df_seats, dummy], sort=False).fillna(0)\n",
    "\n",
    "        init_dict[i] = df_seats.apply(sum)\n",
    "    predicted_seats_dict[key] = pd.concat(init_dict, axis=1, sort=False).T\n",
    "    predicted_seats_dict[key] = predicted_seats_dict[key].assign(region = region, seats=seats)\n",
    "    predicted_seats_dict[key] = predicted_seats_dict[key].drop(columns='set_no')\n",
    "predicted_seats = pd.concat(predicted_seats_dict, sort=False)\n",
    "predicted_seats = predicted_seats.sort_values(['region','seats'])\n",
    "predicted_seats = predicted_seats.reset_index(drop=True)"
   ]
  },
  {
   "cell_type": "code",
   "execution_count": 4,
   "metadata": {},
   "outputs": [],
   "source": [
    "predicted_seats.to_csv(\"../Data/predicted_seats.csv.gz\", index=False, compression='gzip')"
   ]
  },
  {
   "cell_type": "code",
   "execution_count": null,
   "metadata": {},
   "outputs": [],
   "source": []
  }
 ],
 "metadata": {
  "kernelspec": {
   "display_name": "Python 3",
   "language": "python",
   "name": "python3"
  },
  "language_info": {
   "codemirror_mode": {
    "name": "ipython",
    "version": 3
   },
   "file_extension": ".py",
   "mimetype": "text/x-python",
   "name": "python",
   "nbconvert_exporter": "python",
   "pygments_lexer": "ipython3",
   "version": "3.5.3"
  }
 },
 "nbformat": 4,
 "nbformat_minor": 4
}
