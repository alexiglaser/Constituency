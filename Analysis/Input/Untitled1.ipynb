{
 "cells": [
  {
   "cell_type": "code",
   "execution_count": null,
   "metadata": {},
   "outputs": [],
   "source": [
    "# Download files from https://towardsdatascience.com/springer-has-released-65-machine-learning-and-data-books-for-free-961f8181f189"
   ]
  },
  {
   "cell_type": "code",
   "execution_count": 1,
   "metadata": {},
   "outputs": [],
   "source": [
    "import requests\n",
    "import urllib.request\n",
    "import time\n",
    "from bs4 import BeautifulSoup"
   ]
  },
  {
   "cell_type": "code",
   "execution_count": 2,
   "metadata": {},
   "outputs": [],
   "source": [
    "url = \"https://towardsdatascience.com/springer-has-released-65-machine-learning-and-data-books-for-free-961f8181f189\"\n",
    "response = requests.get(url)\n",
    "soup = BeautifulSoup(response.text, \"html.parser\")\n",
    "links = soup.findAll('table',{'class':'cq gv ie if ig ih'})"
   ]
  },
  {
   "cell_type": "code",
   "execution_count": 28,
   "metadata": {},
   "outputs": [],
   "source": [
    "links = []\n",
    "for link in soup.findAll('a'):\n",
    "    l = link.get('href')\n",
    "    if l.startswith('http://link.springer.com'):\n",
    "        links.append(l)"
   ]
  },
  {
   "cell_type": "code",
   "execution_count": null,
   "metadata": {},
   "outputs": [],
   "source": [
    "for link in links:\n",
    "    "
   ]
  },
  {
   "cell_type": "code",
   "execution_count": 33,
   "metadata": {},
   "outputs": [],
   "source": [
    "import requests\n",
    "url=links[0] + \".pdf\"\n",
    "r = requests.get(url, stream=True)\n",
    "\n",
    "with open('../Books/myfile.pdf', 'wb') as f:\n",
    "    f.write(r.content)\n"
   ]
  },
  {
   "cell_type": "code",
   "execution_count": 32,
   "metadata": {},
   "outputs": [
    {
     "data": {
      "text/plain": [
       "'http://link.springer.com/openurl?genre=book&isbn=978-0-387-84858-7'"
      ]
     },
     "execution_count": 32,
     "metadata": {},
     "output_type": "execute_result"
    }
   ],
   "source": [
    "url"
   ]
  },
  {
   "cell_type": "code",
   "execution_count": 34,
   "metadata": {},
   "outputs": [],
   "source": [
    "import os\n",
    "import requests\n",
    "import shutil\n",
    "\n",
    "\n",
    "def create_relative_path_if_not_exist(relative_path):\n",
    "    path = os.path.join(os.getcwd(), relative_path)\n",
    "    if not os.path.exists(path):\n",
    "        os.makedirs(path)\n",
    "    return path\n",
    "\n",
    "\n",
    "def download_book(url, bookpath):\n",
    "    if not os.path.exists(bookpath):\n",
    "        with requests.get(url, stream = True) as req:\n",
    "            path = create_relative_path_if_not_exist('tmp')\n",
    "            tmp_file = os.path.join(path, '_-_temp_file_-_.bak')\n",
    "            with open(tmp_file, 'wb') as out_file:\n",
    "                shutil.copyfileobj(req.raw, out_file)\n",
    "                out_file.close()\n",
    "            shutil.move(tmp_file, bookpath)\n",
    "\n",
    "\n",
    "replacements = {'/':'-', '\\\\':'-', ':':'-', '*':'', '>':'', '<':'', '?':'', \\\n",
    "                '|':'', '\"':''}\n",
    "\n",
    "\n",
    "def compose_bookname(title, author, edition, isbn):\n",
    "    bookname = title + ' - ' + author + ', ' + edition + ' - ' + isbn\n",
    "    if(len(bookname) > 145):\n",
    "        bookname = title + ' - ' + author.split(',')[0] + ' et al., ' + \\\n",
    "                    edition + ' - ' + isbn\n",
    "    if(len(bookname) > 145):\n",
    "        bookname = title + ' - ' + author.split(',')[0] + ' et al. - ' + isbn\n",
    "    if(len(bookname) > 145):\n",
    "        bookname = title + ' - ' + isbn\n",
    "    if(len(bookname) > 145):\n",
    "        bookname = title[:130] + ' - ' +isbn\n",
    "    bookname = bookname.encode('ascii', 'ignore').decode('ascii')\n",
    "    return \"\".join([replacements.get(c, c) for c in bookname])"
   ]
  },
  {
   "cell_type": "code",
   "execution_count": 41,
   "metadata": {},
   "outputs": [
    {
     "name": "stderr",
     "output_type": "stream",
     "text": [
      "100%|██████████| 407/407 [54:21<00:00,  8.01s/it]   "
     ]
    },
    {
     "name": "stdout",
     "output_type": "stream",
     "text": [
      "\n",
      "Finish downloading.\n"
     ]
    },
    {
     "name": "stderr",
     "output_type": "stream",
     "text": [
      "\n"
     ]
    }
   ],
   "source": [
    "import os\n",
    "import requests\n",
    "import pandas as pd\n",
    "import time\n",
    "from tqdm import tqdm\n",
    "# from helper import *\n",
    "\n",
    "folder = \"../Books/\" # create_relative_path_if_not_exist('downloads')\n",
    "\n",
    "table_url = 'https://resource-cms.springernature.com/springer-cms/rest/v1/content/17858272/data/v4'\n",
    "table = 'table_' + table_url.split('/')[-1] + '.xlsx'\n",
    "table_path = os.path.join(folder, table)\n",
    "if not os.path.exists(table_path):\n",
    "    books = pd.read_excel(table_url)\n",
    "    # Save table\n",
    "    books.to_excel(table_path)\n",
    "else:\n",
    "    books = pd.read_excel(table_path, index_col=0, header=0)\n",
    "\n",
    "\n",
    "for url, title, author, edition, isbn, category in tqdm(books[['OpenURL', 'Book Title', 'Author', 'Edition', 'Electronic ISBN', 'English Package Name']].values):\n",
    "    new_folder = create_relative_path_if_not_exist(os.path.join(folder, category))\n",
    "\n",
    "    bookname = compose_bookname(title, author, edition, isbn)\n",
    "    output_file = os.path.join(new_folder, bookname + '.pdf')\n",
    "\n",
    "    # If book already downloaded, skip it\n",
    "    if os.path.exists(output_file):\n",
    "        continue\n",
    "\n",
    "    try:\n",
    "        r = requests.get(url)\n",
    "        new_url = r.url.replace('%2F','/').replace('/book/','/content/pdf/') + '.pdf'\n",
    "        download_book(new_url, output_file)\n",
    "\n",
    "        # Download EPUB version too if exists\n",
    "        new_url = r.url.replace('%2F','/').replace('/book/','/download/epub/') + '.epub'\n",
    "        output_file = os.path.join(new_folder, bookname + '.epub')\n",
    "        request = requests.get(new_url, stream = True)\n",
    "        if request.status_code == 200:\n",
    "            download_book(new_url, output_file)\n",
    "    except:\n",
    "        print('\\nProblem downloading: ' + title)\n",
    "        time.sleep(30)\n",
    "        continue\n",
    "\n",
    "print('\\nFinish downloading.')"
   ]
  },
  {
   "cell_type": "code",
   "execution_count": 43,
   "metadata": {},
   "outputs": [],
   "source": [
    "import glob"
   ]
  },
  {
   "cell_type": "code",
   "execution_count": 51,
   "metadata": {},
   "outputs": [
    {
     "data": {
      "text/plain": [
       "['../Books/Mathematics and Statistics/Calculus With Applications - Peter D. Lax, Maria Shea Terrell, 2nd ed. 2014 - 978-1-4614-7946-8.pdf',\n",
       " '../Books/Mathematics and Statistics/Calculus With Applications - Peter D. Lax, Maria Shea Terrell, 2nd ed. 2014 - 978-1-4614-7946-8.epub',\n",
       " '../Books/Mathematics and Statistics/Multivariate Calculus and Geometry - Sen Dineen, 3rd ed. 2014 - 978-1-4471-6419-7.epub',\n",
       " '../Books/Mathematics and Statistics/Brownian Motion, Martingales, and Stochastic Calculus  - Jean-Franois Le Gall, 1st ed. 2016 - 978-3-319-31089-3.epub',\n",
       " '../Books/Mathematics and Statistics/Brownian Motion, Martingales, and Stochastic Calculus  - Jean-Franois Le Gall, 1st ed. 2016 - 978-3-319-31089-3.pdf',\n",
       " '../Books/Mathematics and Statistics/Multivariate Calculus and Geometry - Sen Dineen, 3rd ed. 2014 - 978-1-4471-6419-7.pdf',\n",
       " '../Books/Economics and Finance/Stochastic Processes and Calculus - Uwe Hassler, 1st ed. 2016 - 978-3-319-23428-1.pdf',\n",
       " '../Books/Economics and Finance/Stochastic Processes and Calculus - Uwe Hassler, 1st ed. 2016 - 978-3-319-23428-1.epub']"
      ]
     },
     "execution_count": 51,
     "metadata": {},
     "output_type": "execute_result"
    }
   ],
   "source": [
    "glob.glob(\"../Books/*/*Calculus*\")"
   ]
  },
  {
   "cell_type": "code",
   "execution_count": null,
   "metadata": {},
   "outputs": [],
   "source": []
  }
 ],
 "metadata": {
  "kernelspec": {
   "display_name": "Python 3",
   "language": "python",
   "name": "python3"
  },
  "language_info": {
   "codemirror_mode": {
    "name": "ipython",
    "version": 3
   },
   "file_extension": ".py",
   "mimetype": "text/x-python",
   "name": "python",
   "nbconvert_exporter": "python",
   "pygments_lexer": "ipython3",
   "version": "3.7.6"
  }
 },
 "nbformat": 4,
 "nbformat_minor": 4
}
