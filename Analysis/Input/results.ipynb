{
 "cells": [
  {
   "cell_type": "markdown",
   "metadata": {},
   "source": [
    "# Analysis of results\n",
    "Using the solutions found from Algorithm X we'll now collate our results."
   ]
  },
  {
   "cell_type": "markdown",
   "metadata": {},
   "source": [
    "#### Add results to neighbouring constituencies.\n",
    "To speed things up later we will find what would have been the results for each set of constituencies paired."
   ]
  },
  {
   "cell_type": "code",
   "execution_count": 2,
   "metadata": {},
   "outputs": [],
   "source": [
    "import numpy as np\n",
    "import pandas as pd"
   ]
  },
  {
   "cell_type": "code",
   "execution_count": 14,
   "metadata": {},
   "outputs": [],
   "source": [
    "df2h = pd.read_csv(\"../Data/const_merged_2_dhondt.csv\")\n",
    "df3h = pd.read_csv(\"../Data/const_merged_3_dhondt.csv\")\n",
    "df4h = pd.read_csv(\"../Data/const_merged_4_dhondt.csv\")\n",
    "df2w = pd.read_csv(\"../Data/const_merged_2_webster.csv\")\n",
    "df3w = pd.read_csv(\"../Data/const_merged_3_webster.csv\")\n",
    "df4w = pd.read_csv(\"../Data/const_merged_4_webster.csv\")"
   ]
  },
  {
   "cell_type": "code",
   "execution_count": 16,
   "metadata": {},
   "outputs": [
    {
     "data": {
      "text/plain": [
       "3    4714\n",
       "dtype: int64"
      ]
     },
     "execution_count": 16,
     "metadata": {},
     "output_type": "execute_result"
    }
   ],
   "source": [
    "pd.value_counts(df3h.drop(columns='pairing').apply(sum, axis=1))"
   ]
  },
  {
   "cell_type": "code",
   "execution_count": 77,
   "metadata": {},
   "outputs": [],
   "source": [
    "# const_pairs = pd.read_csv(\"../Data/const_pairs.csv\")\n",
    "# const_tris = pd.read_csv(\"../Data/const_tris.csv\")\n",
    "# const_quads = pd.read_csv(\"../Data/const_quads.csv\")\n",
    "\n",
    "# bes = pd.read_csv(\"../Data/bes_2019.csv\")\n",
    "# bes = bes.rename(columns = \n",
    "#                              {'con_vote_19': 'Conservative',\n",
    "#                              'lab_vote_19': 'Labour',\n",
    "#                              'ld_vote_19': 'Liberal Democrat',\n",
    "#                              'brexit_vote_19': 'Brexit party',\n",
    "#                              'green_vote_19': 'Green',\n",
    "#                              'snp_vote_19': 'Scottish National Party',\n",
    "#                              'pc_vote_19': 'Plaid Cymru',\n",
    "#                              'dup_vote_19': 'Democratic Unionist Party',\n",
    "#                              'sf_vote_19': 'Sinn Fein',\n",
    "#                              'sdlp_vote_19': 'Social Democratic & Labour Party',\n",
    "#                              'uup_vote_19': 'Ulster Unionist Party',\n",
    "#                              'alliance_vote_19': 'Alliance',\n",
    "#                              'other_vote_19': 'Other'})\n",
    "\n",
    "# bes['merging_name'] = [b.lower() for b in bes['constituency_name']]\n",
    "# parties = ['Conservative', 'Labour', 'Liberal Democrat',\n",
    "#                  'Brexit party', 'Green', 'Scottish National Party', 'Plaid Cymru',\n",
    "#                  'Democratic Unionist Party', 'Sinn Fein', 'Social Democratic & Labour Party', \n",
    "#                  'Ulster Unionist Party', 'Alliance', 'Other']\n"
   ]
  },
  {
   "cell_type": "code",
   "execution_count": null,
   "metadata": {},
   "outputs": [],
   "source": [
    "# In order to read the csv files containing the AlgorithmX results we will need to run the following:\n",
    "from ast import literal_eval\n",
    "# df.to_csv(\"test.csv\", index=False)\n",
    "df2 = pd.read_csv(\"test.csv\", dtype={'region': str}, converters={'solns': literal_eval})"
   ]
  },
  {
   "cell_type": "code",
   "execution_count": null,
   "metadata": {},
   "outputs": [],
   "source": []
  }
 ],
 "metadata": {
  "kernelspec": {
   "display_name": "Python 3",
   "language": "python",
   "name": "python3"
  },
  "language_info": {
   "codemirror_mode": {
    "name": "ipython",
    "version": 3
   },
   "file_extension": ".py",
   "mimetype": "text/x-python",
   "name": "python",
   "nbconvert_exporter": "python",
   "pygments_lexer": "ipython3",
   "version": "3.7.6"
  }
 },
 "nbformat": 4,
 "nbformat_minor": 4
}
