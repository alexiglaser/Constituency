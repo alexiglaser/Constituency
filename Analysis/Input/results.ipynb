{
 "cells": [
  {
   "cell_type": "markdown",
   "metadata": {},
   "source": [
    "# Analysis of results\n",
    "Using the solutions found from Algorithm X we'll now collate our results.\n",
    "\n",
    "In the results we will also add in the following: the island constituencies of 'Isle of Wight', 'Orkney and Shetland', 'Ynys Mon', 'Na h-Eileanan an Iar' and the Speaker's constituency of 'Chorley'. "
   ]
  },
  {
   "cell_type": "markdown",
   "metadata": {},
   "source": [
    "#### Add results to neighbouring constituencies.\n",
    "To speed things up later we will find what would have been the results for each set of constituencies paired."
   ]
  },
  {
   "cell_type": "code",
   "execution_count": 1,
   "metadata": {},
   "outputs": [],
   "source": [
    "import numpy as np\n",
    "import pandas as pd"
   ]
  },
  {
   "cell_type": "code",
   "execution_count": 2,
   "metadata": {},
   "outputs": [],
   "source": [
    "df2h = pd.read_csv(\"../Data/MergedResults/const_merged_2_dhondt.csv.gz\")\n",
    "df3h = pd.read_csv(\"../Data/MergedResults/const_merged_3_dhondt.csv.gz\")\n",
    "df4h = pd.read_csv(\"../Data/MergedResults/const_merged_4_dhondt.csv.gz\")\n",
    "df2w = pd.read_csv(\"../Data/MergedResults/const_merged_2_webster.csv.gz\")\n",
    "df3w = pd.read_csv(\"../Data/MergedResults/const_merged_3_webster.csv.gz\")\n",
    "df4w = pd.read_csv(\"../Data/MergedResults/const_merged_4_webster.csv.gz\")"
   ]
  },
  {
   "cell_type": "code",
   "execution_count": 3,
   "metadata": {},
   "outputs": [
    {
     "data": {
      "text/plain": [
       "3    4714\n",
       "dtype: int64"
      ]
     },
     "execution_count": 3,
     "metadata": {},
     "output_type": "execute_result"
    }
   ],
   "source": [
    "pd.value_counts(df3h.drop(columns='set_no').apply(sum, axis=1))"
   ]
  },
  {
   "cell_type": "code",
   "execution_count": 77,
   "metadata": {},
   "outputs": [],
   "source": [
    "# const_pairs = pd.read_csv(\"../Data/const_pairs.csv\")\n",
    "# const_tris = pd.read_csv(\"../Data/const_tris.csv\")\n",
    "# const_quads = pd.read_csv(\"../Data/const_quads.csv\")\n",
    "\n",
    "# bes = pd.read_csv(\"../Data/bes_2019.csv\")\n",
    "# bes = bes.rename(columns = \n",
    "#                              {'con_vote_19': 'Conservative',\n",
    "#                              'lab_vote_19': 'Labour',\n",
    "#                              'ld_vote_19': 'Liberal Democrat',\n",
    "#                              'brexit_vote_19': 'Brexit party',\n",
    "#                              'green_vote_19': 'Green',\n",
    "#                              'snp_vote_19': 'Scottish National Party',\n",
    "#                              'pc_vote_19': 'Plaid Cymru',\n",
    "#                              'dup_vote_19': 'Democratic Unionist Party',\n",
    "#                              'sf_vote_19': 'Sinn Fein',\n",
    "#                              'sdlp_vote_19': 'Social Democratic & Labour Party',\n",
    "#                              'uup_vote_19': 'Ulster Unionist Party',\n",
    "#                              'alliance_vote_19': 'Alliance',\n",
    "#                              'other_vote_19': 'Other'})\n",
    "\n",
    "# bes['merging_name'] = [b.lower() for b in bes['constituency_name']]\n",
    "# parties = ['Conservative', 'Labour', 'Liberal Democrat',\n",
    "#                  'Brexit party', 'Green', 'Scottish National Party', 'Plaid Cymru',\n",
    "#                  'Democratic Unionist Party', 'Sinn Fein', 'Social Democratic & Labour Party', \n",
    "#                  'Ulster Unionist Party', 'Alliance', 'Other']\n"
   ]
  },
  {
   "cell_type": "code",
   "execution_count": 19,
   "metadata": {},
   "outputs": [],
   "source": [
    "# In order to read the csv files containing the AlgorithmX results we will need to run the following:\n",
    "from ast import literal_eval\n",
    "# df.to_csv(\"test.csv\", index=False)\n",
    "df = pd.read_csv(\"../../AlgorithmX/Solutions/solns_London_4.csv.gz\", dtype={'region': str}, converters={'soln': literal_eval})\n",
    "# To find if there are any duplicates\n",
    "# df = df.assign(sorted_soln = [list(np.sort(t)) for t in df['soln']])"
   ]
  },
  {
   "cell_type": "markdown",
   "metadata": {},
   "source": [
    "It's not easy to check duplicates as the `soln` column is a list. The way we'll do it is as follows:\n",
    "1. Take an inital sample about 2-3 times as big as the final sample that we want\n",
    "1. Create a secondary dataframe as follows `df2 = pd.DataFrame(df['soln'].tolist())` which will expand the dataframe to many columns. Note that since the solutions will be sorted then \n",
    "1. Check `df2` for duplicates and remove them (`df3 = df2.drop_duplicates()`)\n",
    "1. Take a sample from `df3 (df4 = df3.sample(n)` and tham match the indexes from `df` with thos from `df4`.\n",
    "\n",
    "Issue with converting the whole of the dataframe to a list is that it will take a very long period of time and as we're only interested in a sub-sample it doesn't make sense to do it for all of the possible solutions."
   ]
  },
  {
   "cell_type": "code",
   "execution_count": 10,
   "metadata": {},
   "outputs": [
    {
     "data": {
      "text/plain": [
       "(204546, 3)"
      ]
     },
     "execution_count": 10,
     "metadata": {},
     "output_type": "execute_result"
    }
   ],
   "source": [
    "df = pd.read_csv(\"../../AlgorithmX/Solutions/solns_East_3.csv.gz\")\n",
    "df.shape"
   ]
  },
  {
   "cell_type": "code",
   "execution_count": 12,
   "metadata": {},
   "outputs": [
    {
     "data": {
      "text/plain": [
       "4009    71280\n",
       "2986    67088\n",
       "2088    66178\n",
       "Name: quad, dtype: int64"
      ]
     },
     "execution_count": 12,
     "metadata": {},
     "output_type": "execute_result"
    }
   ],
   "source": [
    "pd.value_counts(df['quad'])"
   ]
  },
  {
   "cell_type": "code",
   "execution_count": 11,
   "metadata": {},
   "outputs": [
    {
     "data": {
      "text/html": [
       "<div>\n",
       "<style scoped>\n",
       "    .dataframe tbody tr th:only-of-type {\n",
       "        vertical-align: middle;\n",
       "    }\n",
       "\n",
       "    .dataframe tbody tr th {\n",
       "        vertical-align: top;\n",
       "    }\n",
       "\n",
       "    .dataframe thead th {\n",
       "        text-align: right;\n",
       "    }\n",
       "</style>\n",
       "<table border=\"1\" class=\"dataframe\">\n",
       "  <thead>\n",
       "    <tr style=\"text-align: right;\">\n",
       "      <th></th>\n",
       "      <th>soln</th>\n",
       "      <th>quad</th>\n",
       "      <th>region</th>\n",
       "    </tr>\n",
       "  </thead>\n",
       "  <tbody>\n",
       "    <tr>\n",
       "      <th>89996</th>\n",
       "      <td>[7, 19, 47, 64, 98, 153, 156, 169, 187, 198, 2...</td>\n",
       "      <td>2088</td>\n",
       "      <td>East</td>\n",
       "    </tr>\n",
       "    <tr>\n",
       "      <th>111656</th>\n",
       "      <td>[1, 19, 47, 93, 135, 155, 171, 191, 198, 212, ...</td>\n",
       "      <td>2088</td>\n",
       "      <td>East</td>\n",
       "    </tr>\n",
       "    <tr>\n",
       "      <th>204501</th>\n",
       "      <td>[1, 21, 27, 100, 125, 135, 162, 171, 192, 203,...</td>\n",
       "      <td>4009</td>\n",
       "      <td>East</td>\n",
       "    </tr>\n",
       "    <tr>\n",
       "      <th>173032</th>\n",
       "      <td>[1, 19, 62, 99, 119, 140, 164, 171, 188, 193, ...</td>\n",
       "      <td>4009</td>\n",
       "      <td>East</td>\n",
       "    </tr>\n",
       "    <tr>\n",
       "      <th>157331</th>\n",
       "      <td>[7, 20, 60, 63, 91, 134, 163, 169, 198, 213, 2...</td>\n",
       "      <td>4009</td>\n",
       "      <td>East</td>\n",
       "    </tr>\n",
       "    <tr>\n",
       "      <th>53973</th>\n",
       "      <td>[1, 25, 60, 101, 116, 139, 160, 169, 174, 198,...</td>\n",
       "      <td>2986</td>\n",
       "      <td>East</td>\n",
       "    </tr>\n",
       "    <tr>\n",
       "      <th>202257</th>\n",
       "      <td>[1, 22, 27, 94, 123, 140, 162, 171, 188, 192, ...</td>\n",
       "      <td>4009</td>\n",
       "      <td>East</td>\n",
       "    </tr>\n",
       "    <tr>\n",
       "      <th>40740</th>\n",
       "      <td>[2, 22, 60, 101, 113, 139, 160, 171, 174, 198,...</td>\n",
       "      <td>2986</td>\n",
       "      <td>East</td>\n",
       "    </tr>\n",
       "    <tr>\n",
       "      <th>149660</th>\n",
       "      <td>[17, 19, 35, 69, 91, 115, 137, 162, 169, 198, ...</td>\n",
       "      <td>4009</td>\n",
       "      <td>East</td>\n",
       "    </tr>\n",
       "    <tr>\n",
       "      <th>85018</th>\n",
       "      <td>[17, 19, 53, 74, 101, 144, 155, 169, 173, 197,...</td>\n",
       "      <td>2088</td>\n",
       "      <td>East</td>\n",
       "    </tr>\n",
       "  </tbody>\n",
       "</table>\n",
       "</div>"
      ],
      "text/plain": [
       "                                                     soln  quad region\n",
       "89996   [7, 19, 47, 64, 98, 153, 156, 169, 187, 198, 2...  2088   East\n",
       "111656  [1, 19, 47, 93, 135, 155, 171, 191, 198, 212, ...  2088   East\n",
       "204501  [1, 21, 27, 100, 125, 135, 162, 171, 192, 203,...  4009   East\n",
       "173032  [1, 19, 62, 99, 119, 140, 164, 171, 188, 193, ...  4009   East\n",
       "157331  [7, 20, 60, 63, 91, 134, 163, 169, 198, 213, 2...  4009   East\n",
       "53973   [1, 25, 60, 101, 116, 139, 160, 169, 174, 198,...  2986   East\n",
       "202257  [1, 22, 27, 94, 123, 140, 162, 171, 188, 192, ...  4009   East\n",
       "40740   [2, 22, 60, 101, 113, 139, 160, 171, 174, 198,...  2986   East\n",
       "149660  [17, 19, 35, 69, 91, 115, 137, 162, 169, 198, ...  4009   East\n",
       "85018   [17, 19, 53, 74, 101, 144, 155, 169, 173, 197,...  2088   East"
      ]
     },
     "execution_count": 11,
     "metadata": {},
     "output_type": "execute_result"
    }
   ],
   "source": [
    "df.sample(10)"
   ]
  },
  {
   "cell_type": "code",
   "execution_count": 21,
   "metadata": {},
   "outputs": [],
   "source": [
    "df = df.assign(sorted_soln = [list(np.sort(t)) for t in df['soln']])"
   ]
  },
  {
   "cell_type": "code",
   "execution_count": 22,
   "metadata": {},
   "outputs": [
    {
     "data": {
      "text/plain": [
       "(6250, 4)"
      ]
     },
     "execution_count": 22,
     "metadata": {},
     "output_type": "execute_result"
    }
   ],
   "source": [
    "df.shape"
   ]
  },
  {
   "cell_type": "code",
   "execution_count": 23,
   "metadata": {},
   "outputs": [
    {
     "data": {
      "text/plain": [
       "True"
      ]
     },
     "execution_count": 23,
     "metadata": {},
     "output_type": "execute_result"
    }
   ],
   "source": [
    "np.all(df['soln'] == df['sorted_soln'])"
   ]
  },
  {
   "cell_type": "code",
   "execution_count": 28,
   "metadata": {},
   "outputs": [],
   "source": [
    "d = {}\n",
    "for i in range(1, 21):\n",
    "    d[i] = df\n",
    "df2 = pd.concat(d)"
   ]
  },
  {
   "cell_type": "code",
   "execution_count": 29,
   "metadata": {},
   "outputs": [
    {
     "name": "stdout",
     "output_type": "stream",
     "text": [
      "CPU times: user 17 s, sys: 27.3 s, total: 44.3 s\n",
      "Wall time: 43.2 s\n"
     ]
    }
   ],
   "source": [
    "%%time\n",
    "df3 = pd.DataFrame(df2['soln'].tolist()) #, index=df.index)"
   ]
  },
  {
   "cell_type": "code",
   "execution_count": 31,
   "metadata": {},
   "outputs": [
    {
     "data": {
      "text/plain": [
       "((6250, 16), (125000, 16))"
      ]
     },
     "execution_count": 31,
     "metadata": {},
     "output_type": "execute_result"
    }
   ],
   "source": [
    "df3.drop_duplicates().shape, df3.shape"
   ]
  },
  {
   "cell_type": "code",
   "execution_count": 25,
   "metadata": {},
   "outputs": [
    {
     "data": {
      "text/plain": [
       "(180000, 4)"
      ]
     },
     "execution_count": 25,
     "metadata": {},
     "output_type": "execute_result"
    }
   ],
   "source": [
    "df2.shape"
   ]
  },
  {
   "cell_type": "code",
   "execution_count": 26,
   "metadata": {},
   "outputs": [
    {
     "data": {
      "text/html": [
       "<div>\n",
       "<style scoped>\n",
       "    .dataframe tbody tr th:only-of-type {\n",
       "        vertical-align: middle;\n",
       "    }\n",
       "\n",
       "    .dataframe tbody tr th {\n",
       "        vertical-align: top;\n",
       "    }\n",
       "\n",
       "    .dataframe thead th {\n",
       "        text-align: right;\n",
       "    }\n",
       "</style>\n",
       "<table border=\"1\" class=\"dataframe\">\n",
       "  <thead>\n",
       "    <tr style=\"text-align: right;\">\n",
       "      <th></th>\n",
       "      <th>soln</th>\n",
       "      <th>quad</th>\n",
       "      <th>region</th>\n",
       "      <th>sorted_soln</th>\n",
       "    </tr>\n",
       "  </thead>\n",
       "  <tbody>\n",
       "    <tr>\n",
       "      <th>0</th>\n",
       "      <td>198</td>\n",
       "      <td>888</td>\n",
       "      <td>East</td>\n",
       "      <td>[2, 25, 100, 114, 146, 159, 171, 174, 191, 198...</td>\n",
       "    </tr>\n",
       "    <tr>\n",
       "      <th>0</th>\n",
       "      <td>171</td>\n",
       "      <td>888</td>\n",
       "      <td>East</td>\n",
       "      <td>[2, 25, 100, 114, 146, 159, 171, 174, 191, 198...</td>\n",
       "    </tr>\n",
       "    <tr>\n",
       "      <th>0</th>\n",
       "      <td>394</td>\n",
       "      <td>888</td>\n",
       "      <td>East</td>\n",
       "      <td>[2, 25, 100, 114, 146, 159, 171, 174, 191, 198...</td>\n",
       "    </tr>\n",
       "    <tr>\n",
       "      <th>0</th>\n",
       "      <td>159</td>\n",
       "      <td>888</td>\n",
       "      <td>East</td>\n",
       "      <td>[2, 25, 100, 114, 146, 159, 171, 174, 191, 198...</td>\n",
       "    </tr>\n",
       "    <tr>\n",
       "      <th>0</th>\n",
       "      <td>191</td>\n",
       "      <td>888</td>\n",
       "      <td>East</td>\n",
       "      <td>[2, 25, 100, 114, 146, 159, 171, 174, 191, 198...</td>\n",
       "    </tr>\n",
       "    <tr>\n",
       "      <th>0</th>\n",
       "      <td>2</td>\n",
       "      <td>888</td>\n",
       "      <td>East</td>\n",
       "      <td>[2, 25, 100, 114, 146, 159, 171, 174, 191, 198...</td>\n",
       "    </tr>\n",
       "    <tr>\n",
       "      <th>0</th>\n",
       "      <td>114</td>\n",
       "      <td>888</td>\n",
       "      <td>East</td>\n",
       "      <td>[2, 25, 100, 114, 146, 159, 171, 174, 191, 198...</td>\n",
       "    </tr>\n",
       "    <tr>\n",
       "      <th>0</th>\n",
       "      <td>252</td>\n",
       "      <td>888</td>\n",
       "      <td>East</td>\n",
       "      <td>[2, 25, 100, 114, 146, 159, 171, 174, 191, 198...</td>\n",
       "    </tr>\n",
       "    <tr>\n",
       "      <th>0</th>\n",
       "      <td>174</td>\n",
       "      <td>888</td>\n",
       "      <td>East</td>\n",
       "      <td>[2, 25, 100, 114, 146, 159, 171, 174, 191, 198...</td>\n",
       "    </tr>\n",
       "    <tr>\n",
       "      <th>0</th>\n",
       "      <td>341</td>\n",
       "      <td>888</td>\n",
       "      <td>East</td>\n",
       "      <td>[2, 25, 100, 114, 146, 159, 171, 174, 191, 198...</td>\n",
       "    </tr>\n",
       "  </tbody>\n",
       "</table>\n",
       "</div>"
      ],
      "text/plain": [
       "  soln  quad region                                        sorted_soln\n",
       "0  198   888   East  [2, 25, 100, 114, 146, 159, 171, 174, 191, 198...\n",
       "0  171   888   East  [2, 25, 100, 114, 146, 159, 171, 174, 191, 198...\n",
       "0  394   888   East  [2, 25, 100, 114, 146, 159, 171, 174, 191, 198...\n",
       "0  159   888   East  [2, 25, 100, 114, 146, 159, 171, 174, 191, 198...\n",
       "0  191   888   East  [2, 25, 100, 114, 146, 159, 171, 174, 191, 198...\n",
       "0    2   888   East  [2, 25, 100, 114, 146, 159, 171, 174, 191, 198...\n",
       "0  114   888   East  [2, 25, 100, 114, 146, 159, 171, 174, 191, 198...\n",
       "0  252   888   East  [2, 25, 100, 114, 146, 159, 171, 174, 191, 198...\n",
       "0  174   888   East  [2, 25, 100, 114, 146, 159, 171, 174, 191, 198...\n",
       "0  341   888   East  [2, 25, 100, 114, 146, 159, 171, 174, 191, 198..."
      ]
     },
     "execution_count": 26,
     "metadata": {},
     "output_type": "execute_result"
    }
   ],
   "source": [
    "df2.head(10)"
   ]
  },
  {
   "cell_type": "code",
   "execution_count": 33,
   "metadata": {},
   "outputs": [
    {
     "data": {
      "text/plain": [
       "(6250, 4)"
      ]
     },
     "execution_count": 33,
     "metadata": {},
     "output_type": "execute_result"
    }
   ],
   "source": [
    "df.shape"
   ]
  },
  {
   "cell_type": "code",
   "execution_count": 35,
   "metadata": {},
   "outputs": [
    {
     "name": "stdout",
     "output_type": "stream",
     "text": [
      "CPU times: user 1min 26s, sys: 39.8 s, total: 2min 6s\n",
      "Wall time: 2min 5s\n"
     ]
    }
   ],
   "source": [
    "%%time\n",
    "# To find and remove duplicated lists\n",
    "tf = df2['soln'].apply(pd.Series).duplicated()"
   ]
  },
  {
   "cell_type": "code",
   "execution_count": null,
   "metadata": {},
   "outputs": [],
   "source": []
  }
 ],
 "metadata": {
  "kernelspec": {
   "display_name": "Python 3",
   "language": "python",
   "name": "python3"
  },
  "language_info": {
   "codemirror_mode": {
    "name": "ipython",
    "version": 3
   },
   "file_extension": ".py",
   "mimetype": "text/x-python",
   "name": "python",
   "nbconvert_exporter": "python",
   "pygments_lexer": "ipython3",
   "version": "3.5.3"
  }
 },
 "nbformat": 4,
 "nbformat_minor": 4
}
