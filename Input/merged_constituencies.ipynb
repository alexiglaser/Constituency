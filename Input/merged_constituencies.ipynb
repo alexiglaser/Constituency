{
 "cells": [
  {
   "cell_type": "markdown",
   "metadata": {},
   "source": [
    "## Proportional representation of UK constituencies\n",
    "\n",
    "The idea behind this project is to see how a proportional representation system would have altered results in the last UK general election. The plan is to merge neighbouring constituencies in the UK into 'super' constituencies with 2 / 3 / 4 / etc of them merged together into a larger one and use the D'Hondt method to allocate seats in this 'super' constituency.\n",
    "\n",
    "The reason for using the D'Hondt method is that it can be applied to the results of UK general elections as only one vote is allowed, as opposed to other PR systems where we have multiple votes, e.g. STV or combined constituency / regional seats as in Germany's voting system.\n",
    "\n",
    "We will only merge constituencies in the same region (e.g. Scotland, East Midlands, etc) so:\n",
    "1. 'regional' parties, like Plaid Cymru and the SNP get properly allocated\n",
    "1. it will reduce the combinatorial problem massively \n",
    "\n",
    "The way to merge the constituencies will be to using the [Exact Cover](https://en.wikipedia.org/wiki/Exact_cover) problem and [Knuth's Algorithm X](https://en.wikipedia.org/wiki/Knuth%27s_Algorithm_X) to solve it."
   ]
  },
  {
   "cell_type": "code",
   "execution_count": null,
   "metadata": {},
   "outputs": [],
   "source": []
  }
 ],
 "metadata": {
  "kernelspec": {
   "display_name": "Python 3",
   "language": "python",
   "name": "python3"
  },
  "language_info": {
   "codemirror_mode": {
    "name": "ipython",
    "version": 3
   },
   "file_extension": ".py",
   "mimetype": "text/x-python",
   "name": "python",
   "nbconvert_exporter": "python",
   "pygments_lexer": "ipython3",
   "version": "3.7.6"
  }
 },
 "nbformat": 4,
 "nbformat_minor": 4
}
