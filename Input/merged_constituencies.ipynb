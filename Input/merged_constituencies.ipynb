{
 "cells": [
  {
   "cell_type": "markdown",
   "metadata": {},
   "source": [
    "## Proportional representation of UK constituencies\n",
    "\n",
    "The idea behind this project is to see how a proportional representation system would have altered results in the last UK general election. The plan is to merge neighbouring constituencies in the UK into 'super' constituencies with 2 / 3 / 4 / etc of them merged together into a larger one and use the D'Hondt method to allocate seats in this 'super' constituency."
   ]
  },
  {
   "cell_type": "code",
   "execution_count": 13,
   "metadata": {},
   "outputs": [],
   "source": [
    "import numpy as np\n",
    "import pandas as pd\n",
    "import geopandas as gp\n",
    "\n",
    "import seaborn as sns\n",
    "\n",
    "import time\n",
    "# import matplotlib.pyplot as plt\n",
    "\n",
    "%matplotlib inline"
   ]
  },
  {
   "cell_type": "markdown",
   "metadata": {},
   "source": [
    "#### Simple PR model\n",
    "The simplest PR model would multiply the percentage of votes gained nationally by the number of seats in the UK parliament (650). Which can be done simply using the following:"
   ]
  },
  {
   "cell_type": "code",
   "execution_count": 2,
   "metadata": {},
   "outputs": [],
   "source": [
    "bes = pd.read_csv(\"../Data/bes_2019.csv\")\n",
    "bes = bes.rename(columns = \n",
    "                             {'con_vote_19': 'Conservative',\n",
    "                             'lab_vote_19': 'Labour',\n",
    "                             'ld_vote_19': 'Liberal Democrat',\n",
    "                             'brexit_vote_19': 'Brexit party',\n",
    "                             'green_vote_19': 'Green',\n",
    "                             'snp_vote_19': 'Scottish National Party',\n",
    "                             'pc_vote_19': 'Plaid Cymru',\n",
    "                             'dup_vote_19': 'Democratic Unionist Party',\n",
    "                             'sf_vote_19': 'Sinn Fein',\n",
    "                             'sdlp_vote_19': 'Social Democratic & Labour Party',\n",
    "                             'uup_vote_19': 'Ulster Unionist Party',\n",
    "                             'alliance_vote_19': 'Alliance',\n",
    "                             'other_vote_19': 'Other'})\n",
    "bes_votes = bes[['total_vote_19', 'Conservative', 'Labour', 'Liberal Democrat',\n",
    "                 'Brexit party', 'Green', 'Scottish National Party', 'Plaid Cymru',\n",
    "                 'Democratic Unionist Party', 'Sinn Fein', 'Social Democratic & Labour Party', \n",
    "                 'Ulster Unionist Party', 'Alliance', 'Other']]\n",
    "# Get total votes for each party\n",
    "# Multiply by 649 as we remove the speaker's constituency\n",
    "party_votes = bes_votes.fillna(0).apply(sum)\n",
    "party_proportion = party_votes / party_votes['total_vote_19']\n",
    "party_proportion = party_proportion.drop('total_vote_19')\n",
    "list_pr_seats1 = pd.DataFrame(np.round(party_proportion * 649))\n",
    "list_pr_seats1 = list_pr_seats1.rename(columns={0: 'orig_simple_pr'})\n",
    "\n",
    "# Have a lot of votes for 'Other', so will remove them for this analysis since they can be spread across the whole country and it would be \n",
    "# difficult to know where to allocate the seats for them\n",
    "party_proportion = party_votes / (party_votes['total_vote_19'] - party_votes['Other'])\n",
    "party_proportion = party_proportion.drop(['Other','total_vote_19'])\n",
    "list_pr_seats2 = pd.DataFrame(np.round(party_proportion * 649))\n",
    "list_pr_seats2 = list_pr_seats2.rename(columns={0: 'simple_pr'})"
   ]
  },
  {
   "cell_type": "code",
   "execution_count": 3,
   "metadata": {},
   "outputs": [],
   "source": [
    "seats = pd.DataFrame(pd.value_counts(bes['winner_19']))\n",
    "seats = seats.rename(columns={'winner_19': 'FPTP'})\n",
    "seats = seats.drop('Speaker')\n",
    "seats = pd.concat([seats, list_pr_seats1, list_pr_seats2], axis = 1).fillna(0)\n",
    "seats = seats.reset_index()\n",
    "seats = seats.rename(columns={'index': 'Party'})"
   ]
  },
  {
   "cell_type": "code",
   "execution_count": 4,
   "metadata": {},
   "outputs": [
    {
     "data": {
      "text/plain": [
       "<seaborn.axisgrid.FacetGrid at 0x7ff1d8237090>"
      ]
     },
     "execution_count": 4,
     "metadata": {},
     "output_type": "execute_result"
    },
    {
     "data": {
      "image/png": "[encoded data removed]",
      "text/plain": [
       "<Figure size 926.775x595.44 with 1 Axes>"
      ]
     },
     "metadata": {
      "needs_background": "light"
     },
     "output_type": "display_data"
    }
   ],
   "source": [
    "seats2 = pd.melt(seats, id_vars=['Party'], value_vars = ['FPTP', 'simple_pr'])\n",
    "g = sns.catplot(x=\"Party\", y=\"value\", data=seats2, hue='variable', height=8.27, aspect=11.7/8.27,\n",
    "                kind=\"bar\", palette=\"muted\")\n",
    "g.despine(left=True)\n",
    "g.set_ylabels(\"Seats won using different techniques\")\n",
    "g.set_xticklabels(rotation=90)"
   ]
  },
  {
   "cell_type": "markdown",
   "metadata": {},
   "source": [
    "We can see clearly that the Conservatives and SNP would have a much lower number of seats under this simple PR method, with the beneficiaries being the Liberal Democrats, Greens and the Brexit party."
   ]
  },
  {
   "cell_type": "markdown",
   "metadata": {},
   "source": [
    "#### D'Hondt method\n",
    "As an initial model we shall apply the D'Hondt method to each statistical region in the UK and see what the results would have been in this scenario."
   ]
  },
  {
   "cell_type": "code",
   "execution_count": 5,
   "metadata": {},
   "outputs": [],
   "source": [
    "# Function to allocate seats using the D'Hont method\n",
    "def seat_allocation(votes, no_of_seats=None, method = 'dhondt'):\n",
    "    if no_of_seats is None:\n",
    "        no_of_seats = len(votes)\n",
    "    aggregated_votes = votes.apply(sum)\n",
    "    aggregated_votes = aggregated_votes[aggregated_votes > 0]\n",
    "    aggregated_votes = pd.DataFrame(aggregated_votes)\n",
    "    aggregated_votes = aggregated_votes.rename(columns={0: 'Total votes'})\n",
    "    aggregated_votes = aggregated_votes.assign(\n",
    "        seats = 0,\n",
    "        votes = aggregated_votes['Total votes']\n",
    "    )\n",
    "    for i in range(no_of_seats):\n",
    "        name = aggregated_votes.index[np.argmax(aggregated_votes['votes'])]\n",
    "        aggregated_votes.at[name, 'seats'] += 1\n",
    "        if method == 'dhondt':\n",
    "            aggregated_votes.at[name, 'votes'] = aggregated_votes.at[name, 'Total votes'] / (aggregated_votes.at[name, 'seats'] + 1)\n",
    "        elif method == 'webster':\n",
    "            aggregated_votes.at[name, 'votes'] = aggregated_votes.at[name, 'Total votes'] / (2*aggregated_votes.at[name, 'seats'] + 1)\n",
    "    return aggregated_votes"
   ]
  },
  {
   "cell_type": "code",
   "execution_count": 6,
   "metadata": {},
   "outputs": [],
   "source": [
    "parties =['Conservative', 'Labour', 'Liberal Democrat',\n",
    "                 'Brexit party', 'Green', 'Scottish National Party', 'Plaid Cymru',\n",
    "                 'Democratic Unionist Party', 'Sinn Fein', 'Social Democratic & Labour Party', \n",
    "                 'Ulster Unionist Party', 'Alliance'] #, 'Other']\n",
    "dhont_dict = {}\n",
    "# Remove Speaker's constituency. \n",
    "bes2 = bes[bes['constituency_name'] != 'Chorley'].copy()\n",
    "for region in np.unique(bes['region']):\n",
    "    df = bes2[bes2['region'] == region][parties].fillna(0)\n",
    "    dhont_dict[region] = seat_allocation(df)\n",
    "dhondt_df = pd.concat(dhont_dict)\n",
    "\n",
    "dhondt_df = dhondt_df.reset_index()\n",
    "dhondt_df = dhondt_df.rename(columns = {'level_1': 'Party'})\n",
    "dhondt_seats = dhondt_df[['Party','seats']].pivot_table(index='Party', aggfunc='sum')\n",
    "dhondt_seats = pd.DataFrame(dhondt_seats).reset_index()\n",
    "dhondt_seats = dhondt_seats.rename(columns={'seats': 'dhondt'})\n",
    "\n",
    "webster_dict = {}\n",
    "# Remove Speaker's constituency. \n",
    "bes2 = bes[bes['constituency_name'] != 'Chorley'].copy()\n",
    "for region in np.unique(bes['region']):\n",
    "    df = bes2[bes2['region'] == region][parties].fillna(0)\n",
    "    webster_dict[region] = seat_allocation(df, method = 'webster')\n",
    "webster_df = pd.concat(webster_dict)\n",
    "\n",
    "webster_df = webster_df.reset_index()\n",
    "webster_df = webster_df.rename(columns = {'level_1': 'Party'})\n",
    "webster_seats = webster_df[['Party','seats']].pivot_table(index='Party', aggfunc='sum')\n",
    "webster_seats = pd.DataFrame(webster_seats).reset_index()\n",
    "webster_seats = webster_seats.rename(columns={'seats': 'webster'})\n",
    "\n",
    "seats = seats.merge(dhondt_seats, how='outer').merge(webster_seats, how='outer').fillna(0)"
   ]
  },
  {
   "cell_type": "markdown",
   "metadata": {},
   "source": [
    "THe results are very similar to a 'simple' PR system, however this system would be a bit undesirable since we would have regions with large numbers of MPs (e.g. 'South East' with 84, 'Yorkshire and The Humber' with 54). This would really break the link between the constituent and the constituency MP. So as suggested what if, rather than the 'super' constituency being all of the constituencies in the region, we reduced the size of the 'super' constituency to be 2 / 3 / 4 / etc merged constituencies before we applied the D'Hondt method "
   ]
  },
  {
   "cell_type": "markdown",
   "metadata": {},
   "source": [
    "#### Creating 'super' constituencies\n",
    "In order to merge neighbouring constituencies together we need their shapefiles."
   ]
  },
  {
   "cell_type": "code",
   "execution_count": 7,
   "metadata": {},
   "outputs": [],
   "source": [
    "df = gp.read_file(\"../Data/Westminster_Parliamentary_Constituencies_December_2017_UK_BFC/Westminster_Parliamentary_Constituencies_December_2017_UK_BFC.shp\")\n",
    "df = df.rename(columns={\"PCON17NM\": \"Name\"})"
   ]
  },
  {
   "cell_type": "code",
   "execution_count": 8,
   "metadata": {},
   "outputs": [],
   "source": [
    "# Bit of string replacement so that we can merge the datasets.\n",
    "df['merging_name'] = [str.replace(d.lower(), 'st. ', 'st ') for d in df['Name']]\n",
    "bes['merging_name'] = [b.lower() for b in bes['constituency_name']]\n",
    "# Now merge new information\n",
    "df = df.merge(bes)"
   ]
  },
  {
   "cell_type": "code",
   "execution_count": 9,
   "metadata": {},
   "outputs": [],
   "source": [
    "# The plan is to take every single constituency and find the 'neighbouring' constituency. We will use the 'disjoint' function from geopandas to\n",
    "# find if two constituencies are not bordering.\n",
    "# This will only be done on a region by region basis, as we are not interested in, say a Scotish constiuency that borders one in North \n",
    "# Eastern England.\n",
    "# Create a pair and then see if we can use the Algorithm X to fit them into a region.\n",
    "pair_const = {}\n",
    "regions = np.unique(df['region'])\n",
    "k = 0\n",
    "for region in regions:\n",
    "    df2 = df[df['region'] == region]\n",
    "    for i in range(len(df2)):\n",
    "        for j in range(i+1, len(df2)):\n",
    "            if not df2['geometry'].iloc[i].disjoint(df2['geometry'].iloc[j]):\n",
    "                k += 1\n",
    "                pair_const[k] = pd.DataFrame({'region': [region], 'pairing': k, 'name1': [df2['Name'].iloc[i]], 'name2': [df2['Name'].iloc[j]]})\n",
    "const_pairs = pd.concat(pair_const).reset_index(drop=True)"
   ]
  },
  {
   "cell_type": "code",
   "execution_count": 10,
   "metadata": {},
   "outputs": [
    {
     "name": "stdout",
     "output_type": "stream",
     "text": [
      "{'Na h-Eileanan an Iar', 'Isle of Wight', 'Ynys Mon', 'Orkney and Shetland'}\n"
     ]
    }
   ],
   "source": [
    "# Now need to find all constituencies which haven't got a neighbouring constituency\n",
    "paired_const = set(const_pairs['name1']).union(set(const_pairs['name2']))\n",
    "unpaired_const = set(df['Name']).difference(paired_const)\n",
    "print(unpaired_const)\n",
    "# For the moment we will leave these out. \n",
    "# One reason is that 'Isle of Wight', 'Na h-Eileanan an Iar' and 'Orkney and Shetland' have protected status so that they have constituency\n",
    "# boundaries defined exclusively by geography rather than by (or partly by) size of electorate."
   ]
  },
  {
   "cell_type": "markdown",
   "metadata": {},
   "source": [
    "To find merged constituencies of size 2 we can use the data frame `paired_const` fitered to just one region and then creating a dictionary which follows directly from the data frame."
   ]
  },
  {
   "cell_type": "code",
   "execution_count": null,
   "metadata": {},
   "outputs": [],
   "source": []
  },
  {
   "cell_type": "code",
   "execution_count": 11,
   "metadata": {},
   "outputs": [],
   "source": [
    "# \n",
    "from algo_x import *\n",
    "\n",
    "def all_solns(const_pairs, region):\n",
    "    df = const_pairs[const_pairs['region'] == region_name]\n",
    "    Y = {}\n",
    "    for i in range(len(df)):\n",
    "        Y[df['pairing'].iloc[i]] = {df['name1'].iloc[i], df['name2'].iloc[i]}\n",
    "\n",
    "    all_solns = ExactCover(Y, random = True)\n",
    "    i = 0\n",
    "    for a in all_solns:\n",
    "        i += 1\n",
    "    # Find out how many constituencies there are in the dictionary.\n",
    "    X = set([x for y in Y.values() for x in y])\n",
    "    print(f\"For the {region} region there are {i} solutions when there are {len(X)} constituencies.\")"
   ]
  },
  {
   "cell_type": "code",
   "execution_count": 14,
   "metadata": {},
   "outputs": [
    {
     "name": "stdout",
     "output_type": "stream",
     "text": [
      "For the Northern Ireland region there are 129 solutions when there are 18 constituencies.\n",
      "The time taken is 0.0112s\n"
     ]
    }
   ],
   "source": [
    "region_name = 'Northern Ireland'\n",
    "start = time.time()\n",
    "all_solns(const_pairs, region_name)\n",
    "end = time.time()\n",
    "print(f\"The time taken is {end - start:.4f}s\")"
   ]
  },
  {
   "cell_type": "markdown",
   "metadata": {},
   "source": [
    "That works out quite nicely, however there are only 18 constituencies in the Northern Ireland region and it also contains an even number of constituencies. If we repeat the above for the 'North East' we will not have any solutions."
   ]
  },
  {
   "cell_type": "code",
   "execution_count": 15,
   "metadata": {},
   "outputs": [
    {
     "name": "stdout",
     "output_type": "stream",
     "text": [
      "For the North East region there are 0 solutions when there are 29 constituencies.\n",
      "The time taken is 0.0110s\n"
     ]
    }
   ],
   "source": [
    "region_name = 'North East'\n",
    "start = time.time()\n",
    "all_solns(const_pairs, region_name)\n",
    "end = time.time()\n",
    "print(f\"The time taken is {end - start:.4f}s\")"
   ]
  },
  {
   "cell_type": "markdown",
   "metadata": {},
   "source": [
    "Possible solutions might be to remove one constituency at random, however this can seriously affect the number of solutions, especially for constituencies with few neighbours. E.G. York Central is completely covered by York Outer, so if we removed York Outer then there would be no solutions.\n",
    "\n",
    "An initial thought would be to find a three way neighbour at random and have that as part of the solution. How to implement this is a bit more complex, though shouldn't be too hard if we want the 'super' constituencies to be of size 2; however if we want the majority to be of size 3 then we would end up in a situation for e.g. London with 73 constituencies having 23 three-merged constituencies and 2 two-merged constituencies. How to implement these may be tougher. Also does this three-merged constituenciy stay constant for all of our solutions (definitely not) or do we change it with every possible solution (yes we would, but how would that impact on the time taken).\n",
    "\n",
    "In addition one other issue we face with the ExactCover code is that it returns all known solutions. This isn't a problem for some of the regions, but e.g. London, kept running for several hours and still didn't complete. Ideally we would want at least 10,000 solutions for each possible region (where this is possible). We would also really want to change the code so that the starting criteria is more random. At present it appears to start off in the same place every time, since the code is written to find every solution, which is sub-optimal for what we want to do."
   ]
  },
  {
   "cell_type": "markdown",
   "metadata": {},
   "source": [
    "#### Finding three way neighbours\n",
    "Now that we have neighbouring constituency paris, let's see if we can find three way pairs. This is useful for two reasons:\n",
    "1. it means we can extend our plans to create 'super' constituencies with three constituencies in them\n",
    "1. we can pick one at random and then add it to regions with an odd number of constituencies, thus leaving us with an even number of constituencies to apply neighbouring pairs to."
   ]
  },
  {
   "cell_type": "code",
   "execution_count": 16,
   "metadata": {},
   "outputs": [],
   "source": [
    "# The way we are going to do this is to see, for each pair of neighbouring constituencies, find which other constituencies border them\n",
    "# and then create a dataframe around that.\n",
    "tri_const = {}\n",
    "for i in range(len(const_pairs)):\n",
    "    current_pair = const_pairs.iloc[i]\n",
    "    interim = const_pairs[\n",
    "        (const_pairs['name1'] == current_pair['name1']) |\n",
    "        (const_pairs['name2'] == current_pair['name1']) |\n",
    "        (const_pairs['name1'] == current_pair['name2']) |\n",
    "        (const_pairs['name2'] == current_pair['name2'])\n",
    "    ]\n",
    "    if len(interim) > 1:\n",
    "        neigh_const = [n for n in np.unique([*interim['name1'], *interim['name2']])] #list(set(interim['name1']).union(set(interim['name2'])))\n",
    "        neigh_const.remove(current_pair['name1'])\n",
    "        neigh_const.remove(current_pair['name2'])\n",
    "        tri_const[i+1] = pd.DataFrame(\n",
    "            {'region': current_pair['region'], 'name1': current_pair['name1'], 'name2': current_pair['name2'], 'name3': neigh_const})\n",
    "const_tris = pd.concat(tri_const).reset_index(drop=True)\n",
    "# Now need to remove duplicates\n",
    "const_tris = const_tris.assign(\n",
    "    combined_name1 = [np.sort([a,b,c]) for a,b,c in zip(const_tris['name1'], const_tris['name2'], const_tris['name3'])]\n",
    ")\n",
    "const_tris = const_tris.assign(\n",
    "    combined_name2 = const_tris['combined_name1'].apply(lambda x: (x[0] + x[1] + x[2]).replace(\" \", \"\"))\n",
    ")\n",
    "const_tris = const_tris.drop_duplicates(subset = 'combined_name2')\n",
    "# Add pairing identifier\n",
    "const_tris = const_tris.assign(pairing = const_tris.index+1)"
   ]
  },
  {
   "cell_type": "markdown",
   "metadata": {},
   "source": [
    "#### Future plans:\n",
    "Once the issue with the Exact Cover is solved we would need to get all of the results of the UK general election in 2019 (and possibly previous elections). \n",
    "\n",
    "Using the solutions we would aggregate the constiuency election results together and apply the D'Hondt method for up to, say 10,000, simulations and report results."
   ]
  },
  {
   "cell_type": "code",
   "execution_count": null,
   "metadata": {},
   "outputs": [],
   "source": []
  }
 ],
 "metadata": {
  "kernelspec": {
   "display_name": "Python 3",
   "language": "python",
   "name": "python3"
  },
  "language_info": {
   "codemirror_mode": {
    "name": "ipython",
    "version": 3
   },
   "file_extension": ".py",
   "mimetype": "text/x-python",
   "name": "python",
   "nbconvert_exporter": "python",
   "pygments_lexer": "ipython3",
   "version": "3.7.6"
  }
 },
 "nbformat": 4,
 "nbformat_minor": 4
}
